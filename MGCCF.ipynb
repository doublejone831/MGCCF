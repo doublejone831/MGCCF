{
 "cells": [
  {
   "attachments": {},
   "cell_type": "markdown",
   "metadata": {},
   "source": [
    "# Configuration\n",
    "torch : 1.13.1</br>\n",
    "cuda : 11.7</br>\n",
    "torch_geometric : 2.3.0</br>\n"
   ]
  },
  {
   "cell_type": "code",
   "execution_count": 2,
   "metadata": {},
   "outputs": [
    {
     "name": "stdout",
     "output_type": "stream",
     "text": [
      "Collecting pandas\n",
      "  Downloading pandas-1.3.5-cp37-cp37m-win_amd64.whl (10.0 MB)\n",
      "     ---------------------------------------- 10.0/10.0 MB 9.4 MB/s eta 0:00:00\n",
      "Collecting pytz>=2017.3\n",
      "  Downloading pytz-2023.3-py2.py3-none-any.whl (502 kB)\n",
      "     ------------------------------------- 502.3/502.3 kB 30.8 MB/s eta 0:00:00\n",
      "Requirement already satisfied: python-dateutil>=2.7.3 in c:\\users\\pc\\.conda\\envs\\jupyter_notebook\\lib\\site-packages (from pandas) (2.8.2)\n",
      "Requirement already satisfied: numpy>=1.17.3 in c:\\users\\pc\\.conda\\envs\\jupyter_notebook\\lib\\site-packages (from pandas) (1.21.5)\n",
      "Requirement already satisfied: six>=1.5 in c:\\users\\pc\\.conda\\envs\\jupyter_notebook\\lib\\site-packages (from python-dateutil>=2.7.3->pandas) (1.16.0)\n",
      "Installing collected packages: pytz, pandas\n",
      "Successfully installed pandas-1.3.5 pytz-2023.3\n",
      "Note: you may need to restart the kernel to use updated packages.\n"
     ]
    }
   ],
   "source": [
    "# %conda install pytorch==1.13.1 torchvision==0.14.1 torchaudio==0.13.1 pytorch-cuda=11.7 -c pytorch -c nvidia\n",
    "# %pip install torch_scatter torch_sparse torch_cluster torch_spline_conv -f https://data.pyg.org/whl/torch-1.13.0+cu117.html\n",
    "# %pip install torch_geometric\n",
    "# %pip install pandas"
   ]
  },
  {
   "cell_type": "code",
   "execution_count": 1,
   "metadata": {},
   "outputs": [
    {
     "name": "stderr",
     "output_type": "stream",
     "text": [
      "c:\\Users\\PC\\.conda\\envs\\Jupyter_Notebook\\lib\\site-packages\\tqdm\\auto.py:21: TqdmWarning: IProgress not found. Please update jupyter and ipywidgets. See https://ipywidgets.readthedocs.io/en/stable/user_install.html\n",
      "  from .autonotebook import tqdm as notebook_tqdm\n"
     ]
    },
    {
     "name": "stdout",
     "output_type": "stream",
     "text": [
      "1.13.1\n",
      "11.7\n",
      "2.3.0\n"
     ]
    }
   ],
   "source": [
    "import torch\n",
    "import torch_geometric\n",
    "print(torch.__version__)\n",
    "print(torch.version.cuda)\n",
    "print(torch_geometric.__version__)"
   ]
  },
  {
   "cell_type": "code",
   "execution_count": 38,
   "metadata": {},
   "outputs": [],
   "source": [
    "import os\n",
    "from os.path import join\n",
    "import torch\n",
    "from enum import Enum\n",
    "# from parse import parse_args\n",
    "import multiprocessing\n",
    "\n",
    "# os.environ['KMP_DUPLICATE_LIB_OK'] = 'True'\n",
    "# args = parse_args()\n",
    "\n",
    "# ROOT_PATH = os.path.dirname(os.path.dirname(__file__))\n",
    "# CODE_PATH = join(ROOT_PATH, 'code')\n",
    "# DATA_PATH = join(ROOT_PATH, 'data')\n",
    "# BOARD_PATH = join(CODE_PATH, 'runs')\n",
    "# FILE_PATH = join(CODE_PATH, 'checkpoints')\n",
    "# import sys\n",
    "# sys.path.append(join(CODE_PATH, 'sources'))\n",
    "\n",
    "\n",
    "# if not os.path.exists(FILE_PATH):\n",
    "#     os.makedirs(FILE_PATH, exist_ok=True)\n",
    "\n",
    "config = {}\n",
    "all_dataset = ['lastfm', 'gowalla', 'yelp2018', 'amazon-book']\n",
    "all_models  = ['MMGCF']\n",
    "# config['batch_size'] = 4096\n",
    "config['emb_size'] = 64\n",
    "config['bpr_batch_size'] = 1024 # the batch size for bpr loss training procedure\"\n",
    "config['latent_dim_rec'] = 64 # the embedding size\n",
    "config['n_layers']= 2 # the layer num \n",
    "config['dropout'] = 0 # using the dropout or not\n",
    "config['keep_prob']  = 0.6 # the batch size for bpr loss training procedure\n",
    "config['A_n_fold'] = 100 # the fold num used to split large adj matrix, like gowalla\n",
    "config['test_u_batch_size'] = 100 # the batch size of users for testing\n",
    "config['multicore'] = 0 # whether we use multiprocessing or not in test\n",
    "config['lr'] = 0.001 # the learning rate\n",
    "config['decay'] = 1e-4 # the weight decay for l2 normalizaton\n",
    "config['pretrain'] = 0 # whether we use pretrained weight or not\n",
    "config['A_split'] = False #\n",
    "config['bigdata'] = False #\n",
    "\n",
    "GPU = torch.cuda.is_available()\n",
    "device = torch.device('cuda' if GPU else \"cpu\")\n",
    "CORES = multiprocessing.cpu_count() // 2\n",
    "seed = 2020\n",
    "\n",
    "dataset = 'gowalla'\n",
    "model_name = 'lgn'\n",
    "if dataset not in all_dataset:\n",
    "    raise NotImplementedError(f\"Haven't supported {dataset} yet!, try {all_dataset}\")\n",
    "if model_name not in all_models:\n",
    "    raise NotImplementedError(f\"Haven't supported {model_name} yet!, try {all_models}\")\n",
    "\n",
    "\n",
    "\n",
    "\n",
    "TRAIN_epochs = 1000\n",
    "LOAD = 0\n",
    "PATH = \"./checkpoints\" # path to save weights\n",
    "topks = eval(\"[20]\") # @k test list\n",
    "tensorboard = 1 # enable tensorboard\n",
    "comment = \"lgn\"\n",
    "# let pandas shut up\n",
    "from warnings import simplefilter\n",
    "simplefilter(action=\"ignore\", category=FutureWarning)\n"
   ]
  },
  {
   "attachments": {},
   "cell_type": "markdown",
   "metadata": {},
   "source": [
    "# Data Loader"
   ]
  },
  {
   "cell_type": "code",
   "execution_count": 1,
   "metadata": {},
   "outputs": [
    {
     "name": "stderr",
     "output_type": "stream",
     "text": [
      "c:\\Users\\PC\\.conda\\envs\\Jupyter_Notebook\\lib\\site-packages\\tqdm\\auto.py:22: TqdmWarning: IProgress not found. Please update jupyter and ipywidgets. See https://ipywidgets.readthedocs.io/en/stable/user_install.html\n",
      "  from .autonotebook import tqdm as notebook_tqdm\n"
     ]
    }
   ],
   "source": [
    "import os.path as osp\n",
    "\n",
    "import torch\n",
    "import torch.nn.functional as F\n",
    "from torch.nn import Embedding, Linear\n",
    "\n",
    "import torch_geometric.transforms as T\n",
    "from torch_geometric.data import HeteroData\n",
    "from torch_geometric.nn import SAGEConv\n",
    "from torch_geometric.nn.conv.gcn_conv import gcn_norm"
   ]
  },
  {
   "cell_type": "code",
   "execution_count": 5,
   "metadata": {},
   "outputs": [
    {
     "data": {
      "text/html": [
       "<div>\n",
       "<style scoped>\n",
       "    .dataframe tbody tr th:only-of-type {\n",
       "        vertical-align: middle;\n",
       "    }\n",
       "\n",
       "    .dataframe tbody tr th {\n",
       "        vertical-align: top;\n",
       "    }\n",
       "\n",
       "    .dataframe thead th {\n",
       "        text-align: right;\n",
       "    }\n",
       "</style>\n",
       "<table border=\"1\" class=\"dataframe\">\n",
       "  <thead>\n",
       "    <tr style=\"text-align: right;\">\n",
       "      <th></th>\n",
       "      <th>user</th>\n",
       "      <th>item</th>\n",
       "      <th>time</th>\n",
       "    </tr>\n",
       "  </thead>\n",
       "  <tbody>\n",
       "    <tr>\n",
       "      <th>0</th>\n",
       "      <td>0</td>\n",
       "      <td>4169</td>\n",
       "      <td>2010-10-19T23:55:27Z</td>\n",
       "    </tr>\n",
       "    <tr>\n",
       "      <th>1</th>\n",
       "      <td>0</td>\n",
       "      <td>31533</td>\n",
       "      <td>2010-10-18T22:17:43Z</td>\n",
       "    </tr>\n",
       "    <tr>\n",
       "      <th>2</th>\n",
       "      <td>0</td>\n",
       "      <td>29074</td>\n",
       "      <td>2010-10-17T23:42:03Z</td>\n",
       "    </tr>\n",
       "    <tr>\n",
       "      <th>3</th>\n",
       "      <td>0</td>\n",
       "      <td>2572</td>\n",
       "      <td>2010-10-17T19:26:05Z</td>\n",
       "    </tr>\n",
       "    <tr>\n",
       "      <th>4</th>\n",
       "      <td>0</td>\n",
       "      <td>40979</td>\n",
       "      <td>2010-10-16T18:50:42Z</td>\n",
       "    </tr>\n",
       "    <tr>\n",
       "      <th>...</th>\n",
       "      <td>...</td>\n",
       "      <td>...</td>\n",
       "      <td>...</td>\n",
       "    </tr>\n",
       "    <tr>\n",
       "      <th>1027459</th>\n",
       "      <td>29857</td>\n",
       "      <td>13173</td>\n",
       "      <td>2010-04-27T04:32:19Z</td>\n",
       "    </tr>\n",
       "    <tr>\n",
       "      <th>1027460</th>\n",
       "      <td>29857</td>\n",
       "      <td>392</td>\n",
       "      <td>2010-03-14T18:13:45Z</td>\n",
       "    </tr>\n",
       "    <tr>\n",
       "      <th>1027461</th>\n",
       "      <td>29857</td>\n",
       "      <td>30837</td>\n",
       "      <td>2010-03-13T03:29:55Z</td>\n",
       "    </tr>\n",
       "    <tr>\n",
       "      <th>1027462</th>\n",
       "      <td>29857</td>\n",
       "      <td>10578</td>\n",
       "      <td>2010-02-15T03:33:42Z</td>\n",
       "    </tr>\n",
       "    <tr>\n",
       "      <th>1027463</th>\n",
       "      <td>29857</td>\n",
       "      <td>24374</td>\n",
       "      <td>2010-02-13T07:49:03Z</td>\n",
       "    </tr>\n",
       "  </tbody>\n",
       "</table>\n",
       "<p>1027464 rows × 3 columns</p>\n",
       "</div>"
      ],
      "text/plain": [
       "          user   item                  time\n",
       "0            0   4169  2010-10-19T23:55:27Z\n",
       "1            0  31533  2010-10-18T22:17:43Z\n",
       "2            0  29074  2010-10-17T23:42:03Z\n",
       "3            0   2572  2010-10-17T19:26:05Z\n",
       "4            0  40979  2010-10-16T18:50:42Z\n",
       "...        ...    ...                   ...\n",
       "1027459  29857  13173  2010-04-27T04:32:19Z\n",
       "1027460  29857    392  2010-03-14T18:13:45Z\n",
       "1027461  29857  30837  2010-03-13T03:29:55Z\n",
       "1027462  29857  10578  2010-02-15T03:33:42Z\n",
       "1027463  29857  24374  2010-02-13T07:49:03Z\n",
       "\n",
       "[1027464 rows x 3 columns]"
      ]
     },
     "execution_count": 5,
     "metadata": {},
     "output_type": "execute_result"
    }
   ],
   "source": [
    "import pandas as pd\n",
    "\n",
    "df = pd.read_table('C:\\\\Users\\\\PC\\\\Desktop\\\\MGCCF\\\\data\\\\Gowalla\\\\filtering_refactored.intr', sep=' ', names=['user','item','time'])\n",
    "df"
   ]
  },
  {
   "cell_type": "code",
   "execution_count": 9,
   "metadata": {},
   "outputs": [],
   "source": [
    "data = HeteroData()\n",
    "\n",
    "data['user'].x = torch.tensor(df['user'].unique())\n",
    "data['item'].x = torch.tensor(df['item'].unique())\n",
    "\n",
    "data['user', 'interact', 'item'].edge_index = torch.tensor([list(df['user']),list(df['item'])])"
   ]
  },
  {
   "cell_type": "code",
   "execution_count": 13,
   "metadata": {},
   "outputs": [
    {
     "data": {
      "text/plain": [
       "tensor([[    0,     0,     0,  ..., 29857, 29857, 29857],\n",
       "        [ 4169, 31533, 29074,  ..., 30837, 10578, 24374]])"
      ]
     },
     "execution_count": 13,
     "metadata": {},
     "output_type": "execute_result"
    }
   ],
   "source": [
    "class Bipar_gcn():\n",
    "    "
   ]
  },
  {
   "cell_type": "code",
   "execution_count": null,
   "metadata": {},
   "outputs": [],
   "source": [
    "class MGE():\n",
    "    "
   ]
  }
 ],
 "metadata": {
  "kernelspec": {
   "display_name": "Jupyter_Notebook",
   "language": "python",
   "name": "jupyter_notebook"
  },
  "language_info": {
   "codemirror_mode": {
    "name": "ipython",
    "version": 3
   },
   "file_extension": ".py",
   "mimetype": "text/x-python",
   "name": "python",
   "nbconvert_exporter": "python",
   "pygments_lexer": "ipython3",
   "version": "3.7.16"
  },
  "orig_nbformat": 4
 },
 "nbformat": 4,
 "nbformat_minor": 2
}
