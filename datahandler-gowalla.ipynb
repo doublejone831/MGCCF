{
 "cells": [
  {
   "cell_type": "code",
   "execution_count": 1,
   "metadata": {
    "collapsed": true
   },
   "outputs": [],
   "source": [
    "import pandas as pd\n",
    "import numpy as np\n",
    "import os\n",
    "from os.path import join"
   ]
  },
  {
   "cell_type": "markdown",
   "source": [],
   "metadata": {
    "collapsed": false
   }
  },
  {
   "cell_type": "markdown",
   "source": [],
   "metadata": {
    "collapsed": false
   }
  },
  {
   "cell_type": "markdown",
   "source": [
    "## 데이터 로딩"
   ],
   "metadata": {
    "collapsed": false
   }
  },
  {
   "cell_type": "code",
   "execution_count": 2,
   "outputs": [
    {
     "name": "stdout",
     "output_type": "stream",
     "text": [
      "\n",
      "ROOT_PATH: C:\\tech\\Study\\KCC\n",
      "DATA_PATH: C:\\tech\\Study\\KCC\\dataset\\Gowalla\n",
      "SAVE_PATH: C:\\tech\\Study\\KCC\\dataset\\Gowalla\n",
      "FILE_PATH: C:\\tech\\Study\\KCC\\dataset\\Gowalla\\Gowalla_totalCheckins.txt\n",
      "\n"
     ]
    }
   ],
   "source": [
    "DATA_NAME = \"Gowalla\"\n",
    "FILE_NAME = \"Gowalla_totalCheckins.txt\"\n",
    "COL_NAMES = ['user', 'time', 'lat', 'long', 'item']  # 초기 컬럼\n",
    "BASE_DATA_RATIO = 7  # N/10\n",
    "INC_RATIO = 3\n",
    "INC_STEP = 5\n",
    "\n",
    "# config\n",
    "ROOT_PATH = os.path.abspath(\"\")\n",
    "DATA_PATH = join(ROOT_PATH + \"\\\\dataset\", DATA_NAME)\n",
    "SAVE_PATH = DATA_PATH\n",
    "FILE_PATH = join(DATA_PATH, FILE_NAME)\n",
    "FILT_THRESHOLD = 10  # 최소 데이터 갯수\n",
    "cols = [\"user\", \"item\", \"time\"]  # 사용할 컬럼\n",
    "\n",
    "print(f\"\"\"\n",
    "ROOT_PATH: {ROOT_PATH}\n",
    "DATA_PATH: {DATA_PATH}\n",
    "SAVE_PATH: {SAVE_PATH}\n",
    "FILE_PATH: {FILE_PATH}\n",
    "\"\"\")"
   ],
   "metadata": {
    "collapsed": false
   }
  },
  {
   "cell_type": "code",
   "execution_count": 3,
   "outputs": [],
   "source": [
    "def print_info(df):\n",
    "    \"\"\"\n",
    "    그래프 정보 출력\n",
    "    \"\"\"\n",
    "    print(f\"Total Edges : {len(df)}\\nTotal User : {len(df['user'].unique())}\\nTotal item : {len(df['item'].unique())} \\\n",
    "                \\nSmallest user id : {df['user'].unique().min()} \\\n",
    "                \\nbiggest user id : {df['user'].unique().max()} \\\n",
    "                \\nSmallest item id : {df['item'].unique().min()} \\\n",
    "                \\nbiggest item id : {df['item'].unique().max()} \\\n",
    "                \\nMin Interaction Per user : {df.user.value_counts().min()} \\\n",
    "                \\nMax Interaction Per user : {df.user.value_counts().max()} \\\n",
    "                \\nAvg Interaction Per user : {df.user.value_counts().mean()}\\\n",
    "                \\nMin Interaction Per item : {df.item.value_counts().min()} \\\n",
    "                \\nMax Interaction Per item : {df.item.value_counts().max()} \\\n",
    "                \\nAvg Interaction Per item : {df.item.value_counts().mean()}\")"
   ],
   "metadata": {
    "collapsed": false
   }
  },
  {
   "cell_type": "code",
   "execution_count": 4,
   "outputs": [
    {
     "name": "stdout",
     "output_type": "stream",
     "text": [
      "Total Edges : 6442892\n",
      "Total User : 107092\n",
      "Total item : 1280969                 \n",
      "Smallest user id : 0                 \n",
      "biggest user id : 196585                 \n",
      "Smallest item id : 8904                 \n",
      "biggest item id : 5977757                 \n",
      "Min Interaction Per user : 1                 \n",
      "Max Interaction Per user : 2175                 \n",
      "Avg Interaction Per user : 60.16221566503567                \n",
      "Min Interaction Per item : 1                 \n",
      "Max Interaction Per item : 5811                 \n",
      "Avg Interaction Per item : 5.029701733609478\n"
     ]
    }
   ],
   "source": [
    "# Load File\n",
    "origin_df = pd.read_table(FILE_PATH, names=COL_NAMES)\n",
    "print_info(origin_df)"
   ],
   "metadata": {
    "collapsed": false
   }
  },
  {
   "cell_type": "markdown",
   "source": [],
   "metadata": {
    "collapsed": false
   }
  },
  {
   "cell_type": "markdown",
   "source": [],
   "metadata": {
    "collapsed": false
   }
  },
  {
   "cell_type": "markdown",
   "source": [
    "## 데이터 전처리"
   ],
   "metadata": {
    "collapsed": false
   }
  },
  {
   "cell_type": "markdown",
   "source": [
    "0. 필요 없는 컬럼 제거"
   ],
   "metadata": {
    "collapsed": false
   }
  },
  {
   "cell_type": "code",
   "execution_count": 5,
   "outputs": [
    {
     "data": {
      "text/plain": "           user     item                  time\n0             0    22847  2010-10-19T23:55:27Z\n1             0   420315  2010-10-18T22:17:43Z\n2             0   316637  2010-10-17T23:42:03Z\n3             0    16516  2010-10-17T19:26:05Z\n4             0  5535878  2010-10-16T18:50:42Z\n...         ...      ...                   ...\n6442887  196578   906885  2010-06-11T13:32:26Z\n6442888  196578   965121  2010-06-11T13:26:45Z\n6442889  196578  1174322  2010-06-11T13:26:34Z\n6442890  196585   471724  2010-10-08T21:01:49Z\n6442891  196585  4555073  2010-10-07T17:39:18Z\n\n[6442892 rows x 3 columns]",
      "text/html": "<div>\n<style scoped>\n    .dataframe tbody tr th:only-of-type {\n        vertical-align: middle;\n    }\n\n    .dataframe tbody tr th {\n        vertical-align: top;\n    }\n\n    .dataframe thead th {\n        text-align: right;\n    }\n</style>\n<table border=\"1\" class=\"dataframe\">\n  <thead>\n    <tr style=\"text-align: right;\">\n      <th></th>\n      <th>user</th>\n      <th>item</th>\n      <th>time</th>\n    </tr>\n  </thead>\n  <tbody>\n    <tr>\n      <th>0</th>\n      <td>0</td>\n      <td>22847</td>\n      <td>2010-10-19T23:55:27Z</td>\n    </tr>\n    <tr>\n      <th>1</th>\n      <td>0</td>\n      <td>420315</td>\n      <td>2010-10-18T22:17:43Z</td>\n    </tr>\n    <tr>\n      <th>2</th>\n      <td>0</td>\n      <td>316637</td>\n      <td>2010-10-17T23:42:03Z</td>\n    </tr>\n    <tr>\n      <th>3</th>\n      <td>0</td>\n      <td>16516</td>\n      <td>2010-10-17T19:26:05Z</td>\n    </tr>\n    <tr>\n      <th>4</th>\n      <td>0</td>\n      <td>5535878</td>\n      <td>2010-10-16T18:50:42Z</td>\n    </tr>\n    <tr>\n      <th>...</th>\n      <td>...</td>\n      <td>...</td>\n      <td>...</td>\n    </tr>\n    <tr>\n      <th>6442887</th>\n      <td>196578</td>\n      <td>906885</td>\n      <td>2010-06-11T13:32:26Z</td>\n    </tr>\n    <tr>\n      <th>6442888</th>\n      <td>196578</td>\n      <td>965121</td>\n      <td>2010-06-11T13:26:45Z</td>\n    </tr>\n    <tr>\n      <th>6442889</th>\n      <td>196578</td>\n      <td>1174322</td>\n      <td>2010-06-11T13:26:34Z</td>\n    </tr>\n    <tr>\n      <th>6442890</th>\n      <td>196585</td>\n      <td>471724</td>\n      <td>2010-10-08T21:01:49Z</td>\n    </tr>\n    <tr>\n      <th>6442891</th>\n      <td>196585</td>\n      <td>4555073</td>\n      <td>2010-10-07T17:39:18Z</td>\n    </tr>\n  </tbody>\n</table>\n<p>6442892 rows × 3 columns</p>\n</div>"
     },
     "execution_count": 5,
     "metadata": {},
     "output_type": "execute_result"
    }
   ],
   "source": [
    "clean_df = origin_df[cols]\n",
    "clean_df"
   ],
   "metadata": {
    "collapsed": false
   }
  },
  {
   "cell_type": "markdown",
   "source": [
    "1. 중복 제거"
   ],
   "metadata": {
    "collapsed": false
   }
  },
  {
   "cell_type": "code",
   "execution_count": 6,
   "outputs": [
    {
     "name": "stdout",
     "output_type": "stream",
     "text": [
      "중복 제거 전\n",
      "Total Edges : 6442892\n",
      "Total User : 107092\n",
      "Total item : 1280969                 \n",
      "Smallest user id : 0                 \n",
      "biggest user id : 196585                 \n",
      "Smallest item id : 8904                 \n",
      "biggest item id : 5977757                 \n",
      "Min Interaction Per user : 1                 \n",
      "Max Interaction Per user : 2175                 \n",
      "Avg Interaction Per user : 60.16221566503567                \n",
      "Min Interaction Per item : 1                 \n",
      "Max Interaction Per item : 5811                 \n",
      "Avg Interaction Per item : 5.029701733609478\n"
     ]
    }
   ],
   "source": [
    "print(\"중복 제거 전\")\n",
    "print_info(clean_df)"
   ],
   "metadata": {
    "collapsed": false
   }
  },
  {
   "cell_type": "code",
   "execution_count": 7,
   "outputs": [
    {
     "name": "stdout",
     "output_type": "stream",
     "text": [
      "중복 제거\n",
      "Total Edges : 3981334\n",
      "Total User : 107092\n",
      "Total item : 1280969                 \n",
      "Smallest user id : 0                 \n",
      "biggest user id : 196585                 \n",
      "Smallest item id : 8904                 \n",
      "biggest item id : 5977757                 \n",
      "Min Interaction Per user : 1                 \n",
      "Max Interaction Per user : 2064                 \n",
      "Avg Interaction Per user : 37.176763903933065                \n",
      "Min Interaction Per item : 1                 \n",
      "Max Interaction Per item : 2631                 \n",
      "Avg Interaction Per item : 3.1080642857087097\n"
     ]
    }
   ],
   "source": [
    "drop_dupliacted_df = clean_df.drop_duplicates(subset=['user', 'item'])\n",
    "print(\"중복 제거\")\n",
    "print_info(drop_dupliacted_df)"
   ],
   "metadata": {
    "collapsed": false
   }
  },
  {
   "cell_type": "markdown",
   "source": [
    "2. 10개 미만 interaction 삭제"
   ],
   "metadata": {
    "collapsed": false
   }
  },
  {
   "cell_type": "code",
   "execution_count": 8,
   "outputs": [
    {
     "name": "stdout",
     "output_type": "stream",
     "text": [
      "Total Edges : 1027464\n",
      "Total User : 29858\n",
      "Total item : 40988                 \n",
      "Smallest user id : 0                 \n",
      "biggest user id : 196183                 \n",
      "Smallest item id : 8932                 \n",
      "biggest item id : 5838873                 \n",
      "Min Interaction Per user : 10                 \n",
      "Max Interaction Per user : 1014                 \n",
      "Avg Interaction Per user : 34.411681961283406                \n",
      "Min Interaction Per item : 10                 \n",
      "Max Interaction Per item : 2310                 \n",
      "Avg Interaction Per item : 25.067434371035425\n"
     ]
    },
    {
     "data": {
      "text/plain": "           user     item                  time\n0             0    22847  2010-10-19T23:55:27Z\n1             0   420315  2010-10-18T22:17:43Z\n2             0   316637  2010-10-17T23:42:03Z\n3             0    16516  2010-10-17T19:26:05Z\n4             0  5535878  2010-10-16T18:50:42Z\n...         ...      ...                   ...\n1027459  196183    73521  2010-04-27T04:32:19Z\n1027460  196183     9724  2010-03-14T18:13:45Z\n1027461  196183   388127  2010-03-13T03:29:55Z\n1027462  196183    55858  2010-02-15T03:33:42Z\n1027463  196183   197557  2010-02-13T07:49:03Z\n\n[1027464 rows x 3 columns]",
      "text/html": "<div>\n<style scoped>\n    .dataframe tbody tr th:only-of-type {\n        vertical-align: middle;\n    }\n\n    .dataframe tbody tr th {\n        vertical-align: top;\n    }\n\n    .dataframe thead th {\n        text-align: right;\n    }\n</style>\n<table border=\"1\" class=\"dataframe\">\n  <thead>\n    <tr style=\"text-align: right;\">\n      <th></th>\n      <th>user</th>\n      <th>item</th>\n      <th>time</th>\n    </tr>\n  </thead>\n  <tbody>\n    <tr>\n      <th>0</th>\n      <td>0</td>\n      <td>22847</td>\n      <td>2010-10-19T23:55:27Z</td>\n    </tr>\n    <tr>\n      <th>1</th>\n      <td>0</td>\n      <td>420315</td>\n      <td>2010-10-18T22:17:43Z</td>\n    </tr>\n    <tr>\n      <th>2</th>\n      <td>0</td>\n      <td>316637</td>\n      <td>2010-10-17T23:42:03Z</td>\n    </tr>\n    <tr>\n      <th>3</th>\n      <td>0</td>\n      <td>16516</td>\n      <td>2010-10-17T19:26:05Z</td>\n    </tr>\n    <tr>\n      <th>4</th>\n      <td>0</td>\n      <td>5535878</td>\n      <td>2010-10-16T18:50:42Z</td>\n    </tr>\n    <tr>\n      <th>...</th>\n      <td>...</td>\n      <td>...</td>\n      <td>...</td>\n    </tr>\n    <tr>\n      <th>1027459</th>\n      <td>196183</td>\n      <td>73521</td>\n      <td>2010-04-27T04:32:19Z</td>\n    </tr>\n    <tr>\n      <th>1027460</th>\n      <td>196183</td>\n      <td>9724</td>\n      <td>2010-03-14T18:13:45Z</td>\n    </tr>\n    <tr>\n      <th>1027461</th>\n      <td>196183</td>\n      <td>388127</td>\n      <td>2010-03-13T03:29:55Z</td>\n    </tr>\n    <tr>\n      <th>1027462</th>\n      <td>196183</td>\n      <td>55858</td>\n      <td>2010-02-15T03:33:42Z</td>\n    </tr>\n    <tr>\n      <th>1027463</th>\n      <td>196183</td>\n      <td>197557</td>\n      <td>2010-02-13T07:49:03Z</td>\n    </tr>\n  </tbody>\n</table>\n<p>1027464 rows × 3 columns</p>\n</div>"
     },
     "execution_count": 8,
     "metadata": {},
     "output_type": "execute_result"
    }
   ],
   "source": [
    "fdf = drop_dupliacted_df\n",
    "\n",
    "while fdf.user.value_counts().min() < FILT_THRESHOLD or fdf.item.value_counts().min() < FILT_THRESHOLD:\n",
    "    df_item = fdf.groupby('item').count()\n",
    "    df_item = df_item[df_item.user < FILT_THRESHOLD]\n",
    "    li = df_item.index.to_list()\n",
    "    fdf = fdf.drop(fdf.loc[fdf.item.isin(li)].index)\n",
    "    # print_info(fdf)\n",
    "    df_usr = fdf.groupby('user').count()\n",
    "    df_usr = df_usr[df_usr.item < FILT_THRESHOLD]\n",
    "    li = df_usr.index.to_list()\n",
    "    fdf = fdf.drop(fdf.loc[fdf.user.isin(li)].index)\n",
    "\n",
    "print_info(fdf)\n",
    "fdf = fdf.reset_index().drop(columns=['index'])\n",
    "fdf"
   ],
   "metadata": {
    "collapsed": false
   }
  },
  {
   "cell_type": "markdown",
   "source": [
    "4. 시간 오름차순 정렬"
   ],
   "metadata": {
    "collapsed": false
   }
  },
  {
   "cell_type": "code",
   "execution_count": 9,
   "outputs": [
    {
     "data": {
      "text/plain": "           user     item                      time\n30012       343     8975 2009-03-08 02:33:06+00:00\n231888     5258     9294 2009-03-08 22:31:05+00:00\n175459     3973     9225 2009-03-13 04:45:18+00:00\n231650     5254    61841 2009-03-13 17:38:56+00:00\n231649     5254     9309 2009-03-13 17:49:18+00:00\n...         ...      ...                       ...\n1025728  191672  1373815 2010-10-23 01:15:38+00:00\n1017747  180989    10745 2010-10-23 01:18:24+00:00\n784554    97716    23163 2010-10-23 02:04:43+00:00\n784553    97716    68496 2010-10-23 02:05:35+00:00\n1013259  177988     9337 2010-10-23 02:12:19+00:00\n\n[1027464 rows x 3 columns]",
      "text/html": "<div>\n<style scoped>\n    .dataframe tbody tr th:only-of-type {\n        vertical-align: middle;\n    }\n\n    .dataframe tbody tr th {\n        vertical-align: top;\n    }\n\n    .dataframe thead th {\n        text-align: right;\n    }\n</style>\n<table border=\"1\" class=\"dataframe\">\n  <thead>\n    <tr style=\"text-align: right;\">\n      <th></th>\n      <th>user</th>\n      <th>item</th>\n      <th>time</th>\n    </tr>\n  </thead>\n  <tbody>\n    <tr>\n      <th>30012</th>\n      <td>343</td>\n      <td>8975</td>\n      <td>2009-03-08 02:33:06+00:00</td>\n    </tr>\n    <tr>\n      <th>231888</th>\n      <td>5258</td>\n      <td>9294</td>\n      <td>2009-03-08 22:31:05+00:00</td>\n    </tr>\n    <tr>\n      <th>175459</th>\n      <td>3973</td>\n      <td>9225</td>\n      <td>2009-03-13 04:45:18+00:00</td>\n    </tr>\n    <tr>\n      <th>231650</th>\n      <td>5254</td>\n      <td>61841</td>\n      <td>2009-03-13 17:38:56+00:00</td>\n    </tr>\n    <tr>\n      <th>231649</th>\n      <td>5254</td>\n      <td>9309</td>\n      <td>2009-03-13 17:49:18+00:00</td>\n    </tr>\n    <tr>\n      <th>...</th>\n      <td>...</td>\n      <td>...</td>\n      <td>...</td>\n    </tr>\n    <tr>\n      <th>1025728</th>\n      <td>191672</td>\n      <td>1373815</td>\n      <td>2010-10-23 01:15:38+00:00</td>\n    </tr>\n    <tr>\n      <th>1017747</th>\n      <td>180989</td>\n      <td>10745</td>\n      <td>2010-10-23 01:18:24+00:00</td>\n    </tr>\n    <tr>\n      <th>784554</th>\n      <td>97716</td>\n      <td>23163</td>\n      <td>2010-10-23 02:04:43+00:00</td>\n    </tr>\n    <tr>\n      <th>784553</th>\n      <td>97716</td>\n      <td>68496</td>\n      <td>2010-10-23 02:05:35+00:00</td>\n    </tr>\n    <tr>\n      <th>1013259</th>\n      <td>177988</td>\n      <td>9337</td>\n      <td>2010-10-23 02:12:19+00:00</td>\n    </tr>\n  </tbody>\n</table>\n<p>1027464 rows × 3 columns</p>\n</div>"
     },
     "execution_count": 9,
     "metadata": {},
     "output_type": "execute_result"
    }
   ],
   "source": [
    "fdf['time'] = pd.to_datetime(fdf['time'])\n",
    "fdf = fdf.sort_values('time')\n",
    "fdf"
   ],
   "metadata": {
    "collapsed": false
   }
  },
  {
   "cell_type": "code",
   "execution_count": 13,
   "outputs": [
    {
     "name": "stdout",
     "output_type": "stream",
     "text": [
      "time\n",
      "2009-03-31 00:00:00+00:00       266\n",
      "2009-04-30 00:00:00+00:00       201\n",
      "2009-05-31 00:00:00+00:00       373\n",
      "2009-06-30 00:00:00+00:00       195\n",
      "2009-07-31 00:00:00+00:00       335\n",
      "2009-08-31 00:00:00+00:00       497\n",
      "2009-09-30 00:00:00+00:00      1654\n",
      "2009-10-31 00:00:00+00:00      8152\n",
      "2009-11-30 00:00:00+00:00     18694\n",
      "2009-12-31 00:00:00+00:00     36133\n",
      "2010-01-31 00:00:00+00:00     49702\n",
      "2010-02-28 00:00:00+00:00     44953\n",
      "2010-03-31 00:00:00+00:00    104944\n",
      "2010-04-30 00:00:00+00:00     82631\n",
      "2010-05-31 00:00:00+00:00     85013\n",
      "2010-06-30 00:00:00+00:00     89156\n",
      "2010-07-31 00:00:00+00:00    113265\n",
      "2010-08-31 00:00:00+00:00    130246\n",
      "2010-09-30 00:00:00+00:00    142384\n",
      "2010-10-31 00:00:00+00:00    118670\n",
      "Freq: M, dtype: int64\n"
     ]
    },
    {
     "data": {
      "text/plain": "<Figure size 1500x500 with 1 Axes>",
      "image/png": "[encoded data removed]"
     },
     "metadata": {},
     "output_type": "display_data"
    }
   ],
   "source": [
    "import matplotlib.pyplot as plt\n",
    "\n",
    "# 월별로 집계\n",
    "monthly_counts = fdf.groupby(pd.Grouper(key='time', freq='M')).size()\n",
    "print(monthly_counts)\n",
    "# 그래프 그리기\n",
    "plt.figure(figsize=(15,5))\n",
    "plt.plot(monthly_counts.index, monthly_counts.values)\n",
    "\n",
    "# 그래프 옵션 설정\n",
    "plt.xlabel('Date')\n",
    "plt.ylabel('Counts')\n",
    "plt.title('monthly counts of data')\n",
    "\n",
    "# 그래프 출력\n",
    "plt.show()"
   ],
   "metadata": {
    "collapsed": false
   }
  },
  {
   "cell_type": "code",
   "execution_count": 47,
   "outputs": [],
   "source": [
    "# 전처리 된 데이터 저장\n",
    "fdf.to_csv(SAVE_PATH + \"\\\\preprocessed_data.csv\", index=False)"
   ],
   "metadata": {
    "collapsed": false
   }
  },
  {
   "cell_type": "markdown",
   "source": [],
   "metadata": {
    "collapsed": false
   }
  },
  {
   "cell_type": "markdown",
   "source": [],
   "metadata": {
    "collapsed": false
   }
  },
  {
   "cell_type": "markdown",
   "source": [
    "## 시나리오1, 유저와 아이템 모두 증가. (increase)"
   ],
   "metadata": {
    "collapsed": false
   }
  },
  {
   "cell_type": "code",
   "execution_count": 48,
   "outputs": [
    {
     "data": {
      "text/plain": "           user     item                       time\n0           343     8975  2009-03-08 02:33:06+00:00\n1          5258     9294  2009-03-08 22:31:05+00:00\n2          3973     9225  2009-03-13 04:45:18+00:00\n3          5254    61841  2009-03-13 17:38:56+00:00\n4          5254     9309  2009-03-13 17:49:18+00:00\n...         ...      ...                        ...\n1027459  191672  1373815  2010-10-23 01:15:38+00:00\n1027460  180989    10745  2010-10-23 01:18:24+00:00\n1027461   97716    23163  2010-10-23 02:04:43+00:00\n1027462   97716    68496  2010-10-23 02:05:35+00:00\n1027463  177988     9337  2010-10-23 02:12:19+00:00\n\n[1027464 rows x 3 columns]",
      "text/html": "<div>\n<style scoped>\n    .dataframe tbody tr th:only-of-type {\n        vertical-align: middle;\n    }\n\n    .dataframe tbody tr th {\n        vertical-align: top;\n    }\n\n    .dataframe thead th {\n        text-align: right;\n    }\n</style>\n<table border=\"1\" class=\"dataframe\">\n  <thead>\n    <tr style=\"text-align: right;\">\n      <th></th>\n      <th>user</th>\n      <th>item</th>\n      <th>time</th>\n    </tr>\n  </thead>\n  <tbody>\n    <tr>\n      <th>0</th>\n      <td>343</td>\n      <td>8975</td>\n      <td>2009-03-08 02:33:06+00:00</td>\n    </tr>\n    <tr>\n      <th>1</th>\n      <td>5258</td>\n      <td>9294</td>\n      <td>2009-03-08 22:31:05+00:00</td>\n    </tr>\n    <tr>\n      <th>2</th>\n      <td>3973</td>\n      <td>9225</td>\n      <td>2009-03-13 04:45:18+00:00</td>\n    </tr>\n    <tr>\n      <th>3</th>\n      <td>5254</td>\n      <td>61841</td>\n      <td>2009-03-13 17:38:56+00:00</td>\n    </tr>\n    <tr>\n      <th>4</th>\n      <td>5254</td>\n      <td>9309</td>\n      <td>2009-03-13 17:49:18+00:00</td>\n    </tr>\n    <tr>\n      <th>...</th>\n      <td>...</td>\n      <td>...</td>\n      <td>...</td>\n    </tr>\n    <tr>\n      <th>1027459</th>\n      <td>191672</td>\n      <td>1373815</td>\n      <td>2010-10-23 01:15:38+00:00</td>\n    </tr>\n    <tr>\n      <th>1027460</th>\n      <td>180989</td>\n      <td>10745</td>\n      <td>2010-10-23 01:18:24+00:00</td>\n    </tr>\n    <tr>\n      <th>1027461</th>\n      <td>97716</td>\n      <td>23163</td>\n      <td>2010-10-23 02:04:43+00:00</td>\n    </tr>\n    <tr>\n      <th>1027462</th>\n      <td>97716</td>\n      <td>68496</td>\n      <td>2010-10-23 02:05:35+00:00</td>\n    </tr>\n    <tr>\n      <th>1027463</th>\n      <td>177988</td>\n      <td>9337</td>\n      <td>2010-10-23 02:12:19+00:00</td>\n    </tr>\n  </tbody>\n</table>\n<p>1027464 rows × 3 columns</p>\n</div>"
     },
     "execution_count": 48,
     "metadata": {},
     "output_type": "execute_result"
    }
   ],
   "source": [
    "fdf = pd.read_csv(os.path.join(SAVE_PATH, \"preprocessed_data.csv\"))\n",
    "fdf"
   ],
   "metadata": {
    "collapsed": false
   }
  },
  {
   "cell_type": "code",
   "execution_count": 49,
   "outputs": [
    {
     "data": {
      "text/plain": "'C:\\\\tech\\\\Study\\\\KCC\\\\dataset\\\\Gowalla\\\\increase\\\\'"
     },
     "execution_count": 49,
     "metadata": {},
     "output_type": "execute_result"
    }
   ],
   "source": [
    "# 경로 설정\n",
    "INCREASE_PATH = os.path.join(SAVE_PATH, \"increase\\\\\")\n",
    "INCREASE_PATH"
   ],
   "metadata": {
    "collapsed": false
   }
  },
  {
   "cell_type": "code",
   "execution_count": 50,
   "outputs": [
    {
     "name": "stdout",
     "output_type": "stream",
     "text": [
      "(1027464, 3)\n",
      "719224\n"
     ]
    }
   ],
   "source": [
    "# base block 설정\n",
    "print(fdf.shape)\n",
    "pivot = len(fdf) * BASE_DATA_RATIO // 10\n",
    "print(pivot)\n",
    "fdf[:pivot].to_csv(INCREASE_PATH + \"inc0.csv\", index=False)"
   ],
   "metadata": {
    "collapsed": false
   }
  },
  {
   "cell_type": "code",
   "execution_count": 51,
   "outputs": [
    {
     "name": "stdout",
     "output_type": "stream",
     "text": [
      "(308240, 3)\n",
      "308240\n"
     ]
    },
    {
     "data": {
      "text/plain": "           user     item                       time\n719224    36423    10122  2010-08-21 00:18:15+00:00\n719225    25144   112486  2010-08-21 00:18:17+00:00\n719226     2356    14628  2010-08-21 00:18:18+00:00\n719227    53079    64135  2010-08-21 00:18:20+00:00\n719228    12777    14470  2010-08-21 00:18:43+00:00\n...         ...      ...                        ...\n1027459  191672  1373815  2010-10-23 01:15:38+00:00\n1027460  180989    10745  2010-10-23 01:18:24+00:00\n1027461   97716    23163  2010-10-23 02:04:43+00:00\n1027462   97716    68496  2010-10-23 02:05:35+00:00\n1027463  177988     9337  2010-10-23 02:12:19+00:00\n\n[308240 rows x 3 columns]",
      "text/html": "<div>\n<style scoped>\n    .dataframe tbody tr th:only-of-type {\n        vertical-align: middle;\n    }\n\n    .dataframe tbody tr th {\n        vertical-align: top;\n    }\n\n    .dataframe thead th {\n        text-align: right;\n    }\n</style>\n<table border=\"1\" class=\"dataframe\">\n  <thead>\n    <tr style=\"text-align: right;\">\n      <th></th>\n      <th>user</th>\n      <th>item</th>\n      <th>time</th>\n    </tr>\n  </thead>\n  <tbody>\n    <tr>\n      <th>719224</th>\n      <td>36423</td>\n      <td>10122</td>\n      <td>2010-08-21 00:18:15+00:00</td>\n    </tr>\n    <tr>\n      <th>719225</th>\n      <td>25144</td>\n      <td>112486</td>\n      <td>2010-08-21 00:18:17+00:00</td>\n    </tr>\n    <tr>\n      <th>719226</th>\n      <td>2356</td>\n      <td>14628</td>\n      <td>2010-08-21 00:18:18+00:00</td>\n    </tr>\n    <tr>\n      <th>719227</th>\n      <td>53079</td>\n      <td>64135</td>\n      <td>2010-08-21 00:18:20+00:00</td>\n    </tr>\n    <tr>\n      <th>719228</th>\n      <td>12777</td>\n      <td>14470</td>\n      <td>2010-08-21 00:18:43+00:00</td>\n    </tr>\n    <tr>\n      <th>...</th>\n      <td>...</td>\n      <td>...</td>\n      <td>...</td>\n    </tr>\n    <tr>\n      <th>1027459</th>\n      <td>191672</td>\n      <td>1373815</td>\n      <td>2010-10-23 01:15:38+00:00</td>\n    </tr>\n    <tr>\n      <th>1027460</th>\n      <td>180989</td>\n      <td>10745</td>\n      <td>2010-10-23 01:18:24+00:00</td>\n    </tr>\n    <tr>\n      <th>1027461</th>\n      <td>97716</td>\n      <td>23163</td>\n      <td>2010-10-23 02:04:43+00:00</td>\n    </tr>\n    <tr>\n      <th>1027462</th>\n      <td>97716</td>\n      <td>68496</td>\n      <td>2010-10-23 02:05:35+00:00</td>\n    </tr>\n    <tr>\n      <th>1027463</th>\n      <td>177988</td>\n      <td>9337</td>\n      <td>2010-10-23 02:12:19+00:00</td>\n    </tr>\n  </tbody>\n</table>\n<p>308240 rows × 3 columns</p>\n</div>"
     },
     "execution_count": 51,
     "metadata": {},
     "output_type": "execute_result"
    }
   ],
   "source": [
    "remain = fdf[pivot:]\n",
    "print(remain.shape)\n",
    "len_per_block = remain.shape[0] // INC_STEP\n",
    "print(len_per_block * INC_STEP)\n",
    "remain"
   ],
   "metadata": {
    "collapsed": false
   }
  },
  {
   "cell_type": "code",
   "execution_count": 52,
   "outputs": [
    {
     "name": "stdout",
     "output_type": "stream",
     "text": [
      "Inc0 Block Size : 61648\n",
      "Inc1 Block Size : 61648\n",
      "Inc2 Block Size : 61648\n",
      "Inc3 Block Size : 61648\n",
      "Inc4 Block Size : 61648\n"
     ]
    }
   ],
   "source": [
    "start = 0\n",
    "inc_block = []\n",
    "for i in range(INC_STEP):\n",
    "    if i != INC_STEP - 1:\n",
    "        inc_block.append(remain[start:start + len_per_block])\n",
    "    else:\n",
    "        inc_block.append(remain[start:])\n",
    "    start += len_per_block\n",
    "    print(f\"Inc{i} Block Size : {len(inc_block[i])}\")\n",
    "    inc_block[i].to_csv(INCREASE_PATH + f\"inc{i + 1}.csv\", index=False)"
   ],
   "metadata": {
    "collapsed": false
   }
  },
  {
   "cell_type": "markdown",
   "source": [],
   "metadata": {
    "collapsed": false
   }
  },
  {
   "cell_type": "markdown",
   "source": [],
   "metadata": {
    "collapsed": false
   }
  },
  {
   "cell_type": "markdown",
   "source": [
    "## 시나리오2, 유저와 아이템 모두 고정. (fixed)"
   ],
   "metadata": {
    "collapsed": false
   }
  },
  {
   "cell_type": "code",
   "execution_count": 53,
   "outputs": [],
   "source": [
    "fdf = pd.read_csv(os.path.join(SAVE_PATH, \"preprocessed_data.csv\"))"
   ],
   "metadata": {
    "collapsed": false
   }
  },
  {
   "cell_type": "code",
   "execution_count": 54,
   "outputs": [
    {
     "data": {
      "text/plain": "'C:\\\\tech\\\\Study\\\\KCC\\\\dataset\\\\Gowalla\\\\fixed\\\\'"
     },
     "execution_count": 54,
     "metadata": {},
     "output_type": "execute_result"
    }
   ],
   "source": [
    "FIXED_PATH = os.path.join(SAVE_PATH, \"fixed\\\\\")\n",
    "FIXED_PATH"
   ],
   "metadata": {
    "collapsed": false
   }
  },
  {
   "cell_type": "code",
   "execution_count": 55,
   "outputs": [
    {
     "name": "stdout",
     "output_type": "stream",
     "text": [
      "(1027464, 3)\n",
      "719224\n"
     ]
    }
   ],
   "source": [
    "# base block 설정\n",
    "print(fdf.shape)\n",
    "pivot = len(fdf) * BASE_DATA_RATIO // 10\n",
    "print(pivot)\n",
    "fdf[:pivot].to_csv(FIXED_PATH + \"inc0.csv\", index=False)"
   ],
   "metadata": {
    "collapsed": false
   }
  },
  {
   "cell_type": "code",
   "execution_count": 56,
   "outputs": [
    {
     "data": {
      "text/plain": "((719224, 3), (25728,), (40572,))"
     },
     "execution_count": 56,
     "metadata": {},
     "output_type": "execute_result"
    }
   ],
   "source": [
    "# base block에 있는 unique한 user, item index 추출\n",
    "unique_user = fdf[:pivot]['user'].unique()\n",
    "unique_item = fdf[:pivot]['item'].unique()\n",
    "fdf[:pivot].shape, unique_user.shape, unique_item.shape"
   ],
   "metadata": {
    "collapsed": false
   }
  },
  {
   "cell_type": "code",
   "execution_count": 57,
   "outputs": [
    {
     "name": "stdout",
     "output_type": "stream",
     "text": [
      "unique 추출 전  (308240, 3)\n",
      "unique 추출 후  (210882, 3)\n"
     ]
    },
    {
     "data": {
      "text/plain": "           user     item                       time\n719224    36423    10122  2010-08-21 00:18:15+00:00\n719225    25144   112486  2010-08-21 00:18:17+00:00\n719226     2356    14628  2010-08-21 00:18:18+00:00\n719227    53079    64135  2010-08-21 00:18:20+00:00\n719228    12777    14470  2010-08-21 00:18:43+00:00\n...         ...      ...                        ...\n1027440   79478    82498  2010-10-22 20:44:19+00:00\n1027454  149125    85454  2010-10-22 23:14:22+00:00\n1027458   89231    10745  2010-10-23 01:01:04+00:00\n1027459  191672  1373815  2010-10-23 01:15:38+00:00\n1027460  180989    10745  2010-10-23 01:18:24+00:00\n\n[210882 rows x 3 columns]",
      "text/html": "<div>\n<style scoped>\n    .dataframe tbody tr th:only-of-type {\n        vertical-align: middle;\n    }\n\n    .dataframe tbody tr th {\n        vertical-align: top;\n    }\n\n    .dataframe thead th {\n        text-align: right;\n    }\n</style>\n<table border=\"1\" class=\"dataframe\">\n  <thead>\n    <tr style=\"text-align: right;\">\n      <th></th>\n      <th>user</th>\n      <th>item</th>\n      <th>time</th>\n    </tr>\n  </thead>\n  <tbody>\n    <tr>\n      <th>719224</th>\n      <td>36423</td>\n      <td>10122</td>\n      <td>2010-08-21 00:18:15+00:00</td>\n    </tr>\n    <tr>\n      <th>719225</th>\n      <td>25144</td>\n      <td>112486</td>\n      <td>2010-08-21 00:18:17+00:00</td>\n    </tr>\n    <tr>\n      <th>719226</th>\n      <td>2356</td>\n      <td>14628</td>\n      <td>2010-08-21 00:18:18+00:00</td>\n    </tr>\n    <tr>\n      <th>719227</th>\n      <td>53079</td>\n      <td>64135</td>\n      <td>2010-08-21 00:18:20+00:00</td>\n    </tr>\n    <tr>\n      <th>719228</th>\n      <td>12777</td>\n      <td>14470</td>\n      <td>2010-08-21 00:18:43+00:00</td>\n    </tr>\n    <tr>\n      <th>...</th>\n      <td>...</td>\n      <td>...</td>\n      <td>...</td>\n    </tr>\n    <tr>\n      <th>1027440</th>\n      <td>79478</td>\n      <td>82498</td>\n      <td>2010-10-22 20:44:19+00:00</td>\n    </tr>\n    <tr>\n      <th>1027454</th>\n      <td>149125</td>\n      <td>85454</td>\n      <td>2010-10-22 23:14:22+00:00</td>\n    </tr>\n    <tr>\n      <th>1027458</th>\n      <td>89231</td>\n      <td>10745</td>\n      <td>2010-10-23 01:01:04+00:00</td>\n    </tr>\n    <tr>\n      <th>1027459</th>\n      <td>191672</td>\n      <td>1373815</td>\n      <td>2010-10-23 01:15:38+00:00</td>\n    </tr>\n    <tr>\n      <th>1027460</th>\n      <td>180989</td>\n      <td>10745</td>\n      <td>2010-10-23 01:18:24+00:00</td>\n    </tr>\n  </tbody>\n</table>\n<p>210882 rows × 3 columns</p>\n</div>"
     },
     "execution_count": 57,
     "metadata": {},
     "output_type": "execute_result"
    }
   ],
   "source": [
    "# remain block에서 unique user/item에 해당하는 데이터만 추출\n",
    "remain = fdf[pivot:]\n",
    "print(\"unique 추출 전 \", remain.shape)\n",
    "fixed_df = remain[remain['user'].isin(unique_user) & remain['item'].isin(unique_item)]\n",
    "print(\"unique 추출 후 \", fixed_df.shape)\n",
    "fixed_df"
   ],
   "metadata": {
    "collapsed": false
   }
  },
  {
   "cell_type": "code",
   "execution_count": 58,
   "outputs": [
    {
     "name": "stdout",
     "output_type": "stream",
     "text": [
      "Inc1 Block Size : 42176\n",
      "Inc2 Block Size : 42176\n",
      "Inc3 Block Size : 42176\n",
      "Inc4 Block Size : 42176\n",
      "Inc5 Block Size : 42178\n"
     ]
    }
   ],
   "source": [
    "len_per_block = fixed_df.shape[0] // INC_STEP\n",
    "start = 0\n",
    "inc_block = []\n",
    "for i in range(INC_STEP):\n",
    "    if i != INC_STEP - 1:\n",
    "        inc_block.append(fixed_df[start:start + len_per_block])\n",
    "    else:\n",
    "        inc_block.append(fixed_df[start:])\n",
    "    start += len_per_block\n",
    "    print(f\"Inc{i + 1} Block Size : {len(inc_block[i])}\")\n",
    "    inc_block[i].to_csv(INCREASE_PATH + f\"inc{i + 1}.csv\", index=False)"
   ],
   "metadata": {
    "collapsed": false
   }
  },
  {
   "cell_type": "markdown",
   "source": [],
   "metadata": {
    "collapsed": false
   }
  },
  {
   "cell_type": "markdown",
   "source": [],
   "metadata": {
    "collapsed": false
   }
  },
  {
   "cell_type": "markdown",
   "source": [
    "## 시나리오3, 유저만 증가 (user)"
   ],
   "metadata": {
    "collapsed": false
   }
  },
  {
   "cell_type": "code",
   "execution_count": 59,
   "outputs": [],
   "source": [
    "fdf = pd.read_csv(os.path.join(SAVE_PATH, \"preprocessed_data.csv\"))"
   ],
   "metadata": {
    "collapsed": false
   }
  },
  {
   "cell_type": "code",
   "execution_count": 60,
   "outputs": [
    {
     "data": {
      "text/plain": "'C:\\\\tech\\\\Study\\\\KCC\\\\dataset\\\\Gowalla\\\\user\\\\'"
     },
     "execution_count": 60,
     "metadata": {},
     "output_type": "execute_result"
    }
   ],
   "source": [
    "USER_PATH = os.path.join(SAVE_PATH, \"user\\\\\")\n",
    "USER_PATH"
   ],
   "metadata": {
    "collapsed": false
   }
  },
  {
   "cell_type": "code",
   "execution_count": 61,
   "outputs": [
    {
     "name": "stdout",
     "output_type": "stream",
     "text": [
      "(1027464, 3)\n",
      "719224\n"
     ]
    }
   ],
   "source": [
    "# base block 설정\n",
    "print(fdf.shape)\n",
    "pivot = len(fdf) * BASE_DATA_RATIO // 10\n",
    "print(pivot)\n",
    "fdf[:pivot].to_csv(USER_PATH + \"inc0.csv\", index=False)"
   ],
   "metadata": {
    "collapsed": false
   }
  },
  {
   "cell_type": "code",
   "execution_count": 62,
   "outputs": [
    {
     "data": {
      "text/plain": "((719224, 3), (25728,))"
     },
     "execution_count": 62,
     "metadata": {},
     "output_type": "execute_result"
    }
   ],
   "source": [
    "# base block에 있는 unique한 user index 추출\n",
    "unique_user = fdf[:pivot]['user'].unique()\n",
    "fdf[:pivot].shape, unique_user.shape"
   ],
   "metadata": {
    "collapsed": false
   }
  },
  {
   "cell_type": "code",
   "execution_count": 63,
   "outputs": [
    {
     "name": "stdout",
     "output_type": "stream",
     "text": [
      "전  (308240, 3)\n",
      "후  (91119, 3)\n"
     ]
    },
    {
     "data": {
      "text/plain": "           user     item                       time\n719264    50452   192446  2010-08-21 00:24:58+00:00\n719281    17829  1132814  2010-08-21 00:26:33+00:00\n719285   116786   125090  2010-08-21 00:27:17+00:00\n719341     2275    33735  2010-08-21 00:36:59+00:00\n719343     2275    33791  2010-08-21 00:37:08+00:00\n...         ...      ...                        ...\n1027456   98916   212719  2010-10-22 23:33:04+00:00\n1027457   97731   154518  2010-10-22 23:51:12+00:00\n1027461   97716    23163  2010-10-23 02:04:43+00:00\n1027462   97716    68496  2010-10-23 02:05:35+00:00\n1027463  177988     9337  2010-10-23 02:12:19+00:00\n\n[91119 rows x 3 columns]",
      "text/html": "<div>\n<style scoped>\n    .dataframe tbody tr th:only-of-type {\n        vertical-align: middle;\n    }\n\n    .dataframe tbody tr th {\n        vertical-align: top;\n    }\n\n    .dataframe thead th {\n        text-align: right;\n    }\n</style>\n<table border=\"1\" class=\"dataframe\">\n  <thead>\n    <tr style=\"text-align: right;\">\n      <th></th>\n      <th>user</th>\n      <th>item</th>\n      <th>time</th>\n    </tr>\n  </thead>\n  <tbody>\n    <tr>\n      <th>719264</th>\n      <td>50452</td>\n      <td>192446</td>\n      <td>2010-08-21 00:24:58+00:00</td>\n    </tr>\n    <tr>\n      <th>719281</th>\n      <td>17829</td>\n      <td>1132814</td>\n      <td>2010-08-21 00:26:33+00:00</td>\n    </tr>\n    <tr>\n      <th>719285</th>\n      <td>116786</td>\n      <td>125090</td>\n      <td>2010-08-21 00:27:17+00:00</td>\n    </tr>\n    <tr>\n      <th>719341</th>\n      <td>2275</td>\n      <td>33735</td>\n      <td>2010-08-21 00:36:59+00:00</td>\n    </tr>\n    <tr>\n      <th>719343</th>\n      <td>2275</td>\n      <td>33791</td>\n      <td>2010-08-21 00:37:08+00:00</td>\n    </tr>\n    <tr>\n      <th>...</th>\n      <td>...</td>\n      <td>...</td>\n      <td>...</td>\n    </tr>\n    <tr>\n      <th>1027456</th>\n      <td>98916</td>\n      <td>212719</td>\n      <td>2010-10-22 23:33:04+00:00</td>\n    </tr>\n    <tr>\n      <th>1027457</th>\n      <td>97731</td>\n      <td>154518</td>\n      <td>2010-10-22 23:51:12+00:00</td>\n    </tr>\n    <tr>\n      <th>1027461</th>\n      <td>97716</td>\n      <td>23163</td>\n      <td>2010-10-23 02:04:43+00:00</td>\n    </tr>\n    <tr>\n      <th>1027462</th>\n      <td>97716</td>\n      <td>68496</td>\n      <td>2010-10-23 02:05:35+00:00</td>\n    </tr>\n    <tr>\n      <th>1027463</th>\n      <td>177988</td>\n      <td>9337</td>\n      <td>2010-10-23 02:12:19+00:00</td>\n    </tr>\n  </tbody>\n</table>\n<p>91119 rows × 3 columns</p>\n</div>"
     },
     "execution_count": 63,
     "metadata": {},
     "output_type": "execute_result"
    }
   ],
   "source": [
    "# base block에 존재하는 unique한 user index를 제외하여 remain을 형성하자.\n",
    "remain = fdf[pivot:]\n",
    "print(\"전 \", remain.shape)\n",
    "new_user_remain_df = remain[~remain['user'].isin(unique_user)]\n",
    "print(\"후 \", new_user_remain_df.shape)\n",
    "new_user_remain_df"
   ],
   "metadata": {
    "collapsed": false
   }
  },
  {
   "cell_type": "code",
   "execution_count": 64,
   "outputs": [
    {
     "name": "stdout",
     "output_type": "stream",
     "text": [
      "Inc1 Block Size : 18223\n",
      "Inc2 Block Size : 18223\n",
      "Inc3 Block Size : 18223\n",
      "Inc4 Block Size : 18223\n",
      "Inc5 Block Size : 18227\n"
     ]
    }
   ],
   "source": [
    "len_per_block = new_user_remain_df.shape[0] // INC_STEP\n",
    "start = 0\n",
    "inc_block = []\n",
    "for i in range(INC_STEP):\n",
    "    if i != INC_STEP - 1:\n",
    "        inc_block.append(new_user_remain_df[start:start + len_per_block])\n",
    "    else:\n",
    "        inc_block.append(new_user_remain_df[start:])\n",
    "    start += len_per_block\n",
    "    print(f\"Inc{i + 1} Block Size : {len(inc_block[i])}\")\n",
    "    inc_block[i].to_csv(INCREASE_PATH + f\"inc{i + 1}.csv\", index=False)"
   ],
   "metadata": {
    "collapsed": false
   }
  },
  {
   "cell_type": "code",
   "execution_count": 64,
   "outputs": [],
   "source": [],
   "metadata": {
    "collapsed": false
   }
  },
  {
   "cell_type": "markdown",
   "source": [],
   "metadata": {
    "collapsed": false
   }
  },
  {
   "cell_type": "markdown",
   "source": [],
   "metadata": {
    "collapsed": false
   }
  },
  {
   "cell_type": "markdown",
   "source": [
    "## 시나리오4, 아이템만 증가. (item)"
   ],
   "metadata": {
    "collapsed": false
   }
  },
  {
   "cell_type": "code",
   "execution_count": 65,
   "outputs": [],
   "source": [
    "fdf = pd.read_csv(os.path.join(SAVE_PATH, \"preprocessed_data.csv\"))"
   ],
   "metadata": {
    "collapsed": false
   }
  },
  {
   "cell_type": "code",
   "execution_count": 66,
   "outputs": [
    {
     "data": {
      "text/plain": "'C:\\\\tech\\\\Study\\\\KCC\\\\dataset\\\\Gowalla\\\\item\\\\'"
     },
     "execution_count": 66,
     "metadata": {},
     "output_type": "execute_result"
    }
   ],
   "source": [
    "ITEM_PATH = os.path.join(SAVE_PATH, \"item\\\\\")\n",
    "ITEM_PATH"
   ],
   "metadata": {
    "collapsed": false
   }
  },
  {
   "cell_type": "code",
   "execution_count": 67,
   "outputs": [
    {
     "name": "stdout",
     "output_type": "stream",
     "text": [
      "(1027464, 3)\n",
      "719224\n"
     ]
    }
   ],
   "source": [
    "# base block 설정\n",
    "print(fdf.shape)\n",
    "pivot = len(fdf) * BASE_DATA_RATIO // 10\n",
    "print(pivot)\n",
    "fdf[:pivot].to_csv(USER_PATH + \"inc0.csv\", index=False)"
   ],
   "metadata": {
    "collapsed": false
   }
  },
  {
   "cell_type": "code",
   "execution_count": 68,
   "outputs": [
    {
     "data": {
      "text/plain": "((719224, 3), (40572,))"
     },
     "execution_count": 68,
     "metadata": {},
     "output_type": "execute_result"
    }
   ],
   "source": [
    "# base block에 있는 unique한 item index 추출\n",
    "unique_item = fdf[:pivot]['item'].unique()\n",
    "fdf[:pivot].shape, unique_item.shape"
   ],
   "metadata": {
    "collapsed": false
   }
  },
  {
   "cell_type": "code",
   "execution_count": 69,
   "outputs": [
    {
     "name": "stdout",
     "output_type": "stream",
     "text": [
      "전  (308240, 3)\n",
      "후  (9102, 3)\n"
     ]
    },
    {
     "data": {
      "text/plain": "           user     item                       time\n719559     2305  2117253  2010-08-21 01:18:10+00:00\n719823    65232  2158671  2010-08-21 02:11:27+00:00\n720221     1754  2117253  2010-08-21 03:51:16+00:00\n720308    38539  1571209  2010-08-21 04:20:14+00:00\n720367   108651  1949715  2010-08-21 04:37:59+00:00\n...         ...      ...                        ...\n1027178     718  3098978  2010-10-22 03:54:09+00:00\n1027265  165897  4991484  2010-10-22 10:33:27+00:00\n1027285  186489  5389753  2010-10-22 12:21:55+00:00\n1027302  182660  5474349  2010-10-22 14:03:06+00:00\n1027391   24990  4820876  2010-10-22 18:07:00+00:00\n\n[9102 rows x 3 columns]",
      "text/html": "<div>\n<style scoped>\n    .dataframe tbody tr th:only-of-type {\n        vertical-align: middle;\n    }\n\n    .dataframe tbody tr th {\n        vertical-align: top;\n    }\n\n    .dataframe thead th {\n        text-align: right;\n    }\n</style>\n<table border=\"1\" class=\"dataframe\">\n  <thead>\n    <tr style=\"text-align: right;\">\n      <th></th>\n      <th>user</th>\n      <th>item</th>\n      <th>time</th>\n    </tr>\n  </thead>\n  <tbody>\n    <tr>\n      <th>719559</th>\n      <td>2305</td>\n      <td>2117253</td>\n      <td>2010-08-21 01:18:10+00:00</td>\n    </tr>\n    <tr>\n      <th>719823</th>\n      <td>65232</td>\n      <td>2158671</td>\n      <td>2010-08-21 02:11:27+00:00</td>\n    </tr>\n    <tr>\n      <th>720221</th>\n      <td>1754</td>\n      <td>2117253</td>\n      <td>2010-08-21 03:51:16+00:00</td>\n    </tr>\n    <tr>\n      <th>720308</th>\n      <td>38539</td>\n      <td>1571209</td>\n      <td>2010-08-21 04:20:14+00:00</td>\n    </tr>\n    <tr>\n      <th>720367</th>\n      <td>108651</td>\n      <td>1949715</td>\n      <td>2010-08-21 04:37:59+00:00</td>\n    </tr>\n    <tr>\n      <th>...</th>\n      <td>...</td>\n      <td>...</td>\n      <td>...</td>\n    </tr>\n    <tr>\n      <th>1027178</th>\n      <td>718</td>\n      <td>3098978</td>\n      <td>2010-10-22 03:54:09+00:00</td>\n    </tr>\n    <tr>\n      <th>1027265</th>\n      <td>165897</td>\n      <td>4991484</td>\n      <td>2010-10-22 10:33:27+00:00</td>\n    </tr>\n    <tr>\n      <th>1027285</th>\n      <td>186489</td>\n      <td>5389753</td>\n      <td>2010-10-22 12:21:55+00:00</td>\n    </tr>\n    <tr>\n      <th>1027302</th>\n      <td>182660</td>\n      <td>5474349</td>\n      <td>2010-10-22 14:03:06+00:00</td>\n    </tr>\n    <tr>\n      <th>1027391</th>\n      <td>24990</td>\n      <td>4820876</td>\n      <td>2010-10-22 18:07:00+00:00</td>\n    </tr>\n  </tbody>\n</table>\n<p>9102 rows × 3 columns</p>\n</div>"
     },
     "execution_count": 69,
     "metadata": {},
     "output_type": "execute_result"
    }
   ],
   "source": [
    "# base block에 존재하는 unique한 user index를 제외하여 remain을 형성하자.\n",
    "remain = fdf[pivot:]\n",
    "print(\"전 \", remain.shape)\n",
    "new_item_remain_df = remain[~remain['item'].isin(unique_item)]\n",
    "print(\"후 \", new_item_remain_df.shape)\n",
    "new_item_remain_df"
   ],
   "metadata": {
    "collapsed": false
   }
  },
  {
   "cell_type": "code",
   "execution_count": 70,
   "outputs": [
    {
     "name": "stdout",
     "output_type": "stream",
     "text": [
      "Inc1 Block Size : 1820\n",
      "Inc2 Block Size : 1820\n",
      "Inc3 Block Size : 1820\n",
      "Inc4 Block Size : 1820\n",
      "Inc5 Block Size : 1822\n"
     ]
    }
   ],
   "source": [
    "len_per_block = new_item_remain_df.shape[0] // INC_STEP\n",
    "start = 0\n",
    "inc_block = []\n",
    "for i in range(INC_STEP):\n",
    "    if i != INC_STEP - 1:\n",
    "        inc_block.append(new_item_remain_df[start:start + len_per_block])\n",
    "    else:\n",
    "        inc_block.append(new_item_remain_df[start:])\n",
    "    start += len_per_block\n",
    "    print(f\"Inc{i + 1} Block Size : {len(inc_block[i])}\")\n",
    "    inc_block[i].to_csv(INCREASE_PATH + f\"inc{i + 1}.csv\", index=False)"
   ],
   "metadata": {
    "collapsed": false
   }
  },
  {
   "cell_type": "markdown",
   "source": [],
   "metadata": {
    "collapsed": false
   }
  },
  {
   "cell_type": "markdown",
   "source": [],
   "metadata": {
    "collapsed": false
   }
  },
  {
   "cell_type": "markdown",
   "source": [],
   "metadata": {
    "collapsed": false
   }
  },
  {
   "cell_type": "code",
   "execution_count": 83,
   "outputs": [
    {
     "data": {
      "text/plain": "        user    item                       time\n452166  7142  374722  2010-06-07 14:24:49+00:00\n501691  7142   34914  2010-06-24 09:45:23+00:00\n533263  7142  105228  2010-07-03 22:43:45+00:00\n698512  7142  127183  2010-08-15 14:39:15+00:00\n713851  7142   61161  2010-08-19 20:30:19+00:00",
      "text/html": "<div>\n<style scoped>\n    .dataframe tbody tr th:only-of-type {\n        vertical-align: middle;\n    }\n\n    .dataframe tbody tr th {\n        vertical-align: top;\n    }\n\n    .dataframe thead th {\n        text-align: right;\n    }\n</style>\n<table border=\"1\" class=\"dataframe\">\n  <thead>\n    <tr style=\"text-align: right;\">\n      <th></th>\n      <th>user</th>\n      <th>item</th>\n      <th>time</th>\n    </tr>\n  </thead>\n  <tbody>\n    <tr>\n      <th>452166</th>\n      <td>7142</td>\n      <td>374722</td>\n      <td>2010-06-07 14:24:49+00:00</td>\n    </tr>\n    <tr>\n      <th>501691</th>\n      <td>7142</td>\n      <td>34914</td>\n      <td>2010-06-24 09:45:23+00:00</td>\n    </tr>\n    <tr>\n      <th>533263</th>\n      <td>7142</td>\n      <td>105228</td>\n      <td>2010-07-03 22:43:45+00:00</td>\n    </tr>\n    <tr>\n      <th>698512</th>\n      <td>7142</td>\n      <td>127183</td>\n      <td>2010-08-15 14:39:15+00:00</td>\n    </tr>\n    <tr>\n      <th>713851</th>\n      <td>7142</td>\n      <td>61161</td>\n      <td>2010-08-19 20:30:19+00:00</td>\n    </tr>\n  </tbody>\n</table>\n</div>"
     },
     "execution_count": 83,
     "metadata": {},
     "output_type": "execute_result"
    }
   ],
   "source": [
    "import pandas as pd\n",
    "\n",
    "df = pd.read_csv(\"./dataset/Gowalla/increase/inc0.csv\")\n",
    "df[df['user'] == 7142]"
   ],
   "metadata": {
    "collapsed": false
   }
  },
  {
   "cell_type": "code",
   "execution_count": 71,
   "outputs": [],
   "source": [],
   "metadata": {
    "collapsed": false
   }
  }
 ],
 "metadata": {
  "kernelspec": {
   "display_name": "Python 3",
   "language": "python",
   "name": "python3"
  },
  "language_info": {
   "codemirror_mode": {
    "name": "ipython",
    "version": 2
   },
   "file_extension": ".py",
   "mimetype": "text/x-python",
   "name": "python",
   "nbconvert_exporter": "python",
   "pygments_lexer": "ipython2",
   "version": "2.7.6"
  }
 },
 "nbformat": 4,
 "nbformat_minor": 0
}
