{
 "cells": [
  {
   "cell_type": "markdown",
   "source": [
    "# ml-100k는 u.data\n",
    "# ml-latest-small는 ratings.csv"
   ],
   "metadata": {
    "collapsed": false
   }
  },
  {
   "cell_type": "code",
   "execution_count": 65,
   "metadata": {
    "collapsed": true
   },
   "outputs": [],
   "source": [
    "import pandas as pd\n",
    "import numpy as np\n",
    "import os\n",
    "from os.path import join"
   ]
  },
  {
   "cell_type": "markdown",
   "source": [],
   "metadata": {
    "collapsed": false
   }
  },
  {
   "cell_type": "markdown",
   "source": [],
   "metadata": {
    "collapsed": false
   }
  },
  {
   "cell_type": "markdown",
   "source": [
    "## 데이터 로딩"
   ],
   "metadata": {
    "collapsed": false
   }
  },
  {
   "cell_type": "code",
   "execution_count": 66,
   "outputs": [
    {
     "name": "stdout",
     "output_type": "stream",
     "text": [
      "\n",
      "ROOT_PATH: C:\\tech\\Study\\KCC\n",
      "DATA_PATH: C:\\tech\\Study\\KCC\\dataset\\Movielens\n",
      "SAVE_PATH: C:\\tech\\Study\\KCC\\dataset\\Movielens\n",
      "FILE_PATH1: C:\\tech\\Study\\KCC\\dataset\\Movielens\\ml-100k\\u.data\n",
      "FILE_PATH2: C:\\tech\\Study\\KCC\\dataset\\Movielens\\ml-latest-small\\ratings.csv\n",
      "\n"
     ]
    }
   ],
   "source": [
    "DATA_NAME = \"Movielens\"\n",
    "FILE_NAME1 = \"ml-100k\\\\u.data\"\n",
    "FILE_NAME2 = \"ml-latest-small\\\\ratings.csv\"\n",
    "COL_NAMES = ['user', 'item', 'rating', 'time']  # 초기 컬럼  user id | item id | rating | timestamp\n",
    "BASE_DATA_RATIO = 7  # N/10\n",
    "INC_RATIO = 3\n",
    "INC_STEP = 5\n",
    "\n",
    "# config\n",
    "ROOT_PATH = os.path.abspath(\"\")\n",
    "DATA_PATH = join(ROOT_PATH + \"\\\\dataset\", DATA_NAME)\n",
    "SAVE_PATH = DATA_PATH\n",
    "FILE_PATH1 = join(DATA_PATH, FILE_NAME1)\n",
    "FILE_PATH2 = join(DATA_PATH, FILE_NAME2)\n",
    "FILT_THRESHOLD = 10  # 최소 데이터 갯수\n",
    "cols = [\"user\", \"item\", \"time\"]  # 사용할 컬럼\n",
    "\n",
    "print(f\"\"\"\n",
    "ROOT_PATH: {ROOT_PATH}\n",
    "DATA_PATH: {DATA_PATH}\n",
    "SAVE_PATH: {SAVE_PATH}\n",
    "FILE_PATH1: {FILE_PATH1}\n",
    "FILE_PATH2: {FILE_PATH2}\n",
    "\"\"\")"
   ],
   "metadata": {
    "collapsed": false
   }
  },
  {
   "cell_type": "code",
   "execution_count": 67,
   "outputs": [],
   "source": [
    "def print_info(df):\n",
    "    \"\"\"\n",
    "    그래프 정보 출력\n",
    "    \"\"\"\n",
    "    print(f\"Total Edges : {len(df)}\\nTotal User : {len(df['user'].unique())}\\nTotal item : {len(df['item'].unique())} \\\n",
    "                \\nSmallest user id : {df['user'].unique().min()} \\\n",
    "                \\nbiggest user id : {df['user'].unique().max()} \\\n",
    "                \\nSmallest item id : {df['item'].unique().min()} \\\n",
    "                \\nbiggest item id : {df['item'].unique().max()} \\\n",
    "                \\nMin Interaction Per user : {df.user.value_counts().min()} \\\n",
    "                \\nMax Interaction Per user : {df.user.value_counts().max()} \\\n",
    "                \\nAvg Interaction Per user : {df.user.value_counts().mean()}\\\n",
    "                \\nMin Interaction Per item : {df.item.value_counts().min()} \\\n",
    "                \\nMax Interaction Per item : {df.item.value_counts().max()} \\\n",
    "                \\nAvg Interaction Per item : {df.item.value_counts().mean()}\")"
   ],
   "metadata": {
    "collapsed": false
   }
  },
  {
   "cell_type": "code",
   "execution_count": 68,
   "outputs": [],
   "source": [
    "# Load File\n",
    "ml_100k_df = pd.read_table(FILE_PATH1, names=COL_NAMES)\n",
    "ml_small_df = pd.read_csv(FILE_PATH2, names=COL_NAMES, skiprows=[0])"
   ],
   "metadata": {
    "collapsed": false
   }
  },
  {
   "cell_type": "code",
   "execution_count": 69,
   "outputs": [
    {
     "name": "stdout",
     "output_type": "stream",
     "text": [
      "Total Edges : 100000\n",
      "Total User : 943\n",
      "Total item : 1682                 \n",
      "Smallest user id : 1                 \n",
      "biggest user id : 943                 \n",
      "Smallest item id : 1                 \n",
      "biggest item id : 1682                 \n",
      "Min Interaction Per user : 20                 \n",
      "Max Interaction Per user : 737                 \n",
      "Avg Interaction Per user : 106.04453870625663                \n",
      "Min Interaction Per item : 1                 \n",
      "Max Interaction Per item : 583                 \n",
      "Avg Interaction Per item : 59.45303210463734\n"
     ]
    }
   ],
   "source": [
    "print_info(ml_100k_df)"
   ],
   "metadata": {
    "collapsed": false
   }
  },
  {
   "cell_type": "code",
   "execution_count": 70,
   "outputs": [
    {
     "name": "stdout",
     "output_type": "stream",
     "text": [
      "Total Edges : 100836\n",
      "Total User : 610\n",
      "Total item : 9724                 \n",
      "Smallest user id : 1                 \n",
      "biggest user id : 610                 \n",
      "Smallest item id : 1                 \n",
      "biggest item id : 193609                 \n",
      "Min Interaction Per user : 20                 \n",
      "Max Interaction Per user : 2698                 \n",
      "Avg Interaction Per user : 165.30491803278687                \n",
      "Min Interaction Per item : 1                 \n",
      "Max Interaction Per item : 329                 \n",
      "Avg Interaction Per item : 10.369806663924312\n"
     ]
    }
   ],
   "source": [
    "print_info(ml_small_df)"
   ],
   "metadata": {
    "collapsed": false
   }
  },
  {
   "cell_type": "markdown",
   "source": [],
   "metadata": {
    "collapsed": false
   }
  },
  {
   "cell_type": "markdown",
   "source": [],
   "metadata": {
    "collapsed": false
   }
  },
  {
   "cell_type": "markdown",
   "source": [
    "## 데이터 전처리\n",
    "\n",
    "* 중복 제거: 동일 유저, 동일 아이템에 대한 평점은 가장 최근 것만\n",
    "* 긍정 데이터: rating 3점 이상 데이터만\n",
    "* 유효 데이터: interaction 10개 이상"
   ],
   "metadata": {
    "collapsed": false
   }
  },
  {
   "cell_type": "markdown",
   "source": [
    "1. 중복 제거 (중복이 없다.)"
   ],
   "metadata": {
    "collapsed": false
   }
  },
  {
   "cell_type": "code",
   "execution_count": 71,
   "outputs": [
    {
     "data": {
      "text/plain": "Empty DataFrame\nColumns: [user, item, rating, time]\nIndex: []",
      "text/html": "<div>\n<style scoped>\n    .dataframe tbody tr th:only-of-type {\n        vertical-align: middle;\n    }\n\n    .dataframe tbody tr th {\n        vertical-align: top;\n    }\n\n    .dataframe thead th {\n        text-align: right;\n    }\n</style>\n<table border=\"1\" class=\"dataframe\">\n  <thead>\n    <tr style=\"text-align: right;\">\n      <th></th>\n      <th>user</th>\n      <th>item</th>\n      <th>rating</th>\n      <th>time</th>\n    </tr>\n  </thead>\n  <tbody>\n  </tbody>\n</table>\n</div>"
     },
     "execution_count": 71,
     "metadata": {},
     "output_type": "execute_result"
    }
   ],
   "source": [
    "ml_small_df[ml_small_df.duplicated(subset=['user', 'item'])]"
   ],
   "metadata": {
    "collapsed": false
   }
  },
  {
   "cell_type": "markdown",
   "source": [
    "2. 평점 3점 이상 데이터만 남기기"
   ],
   "metadata": {
    "collapsed": false
   }
  },
  {
   "cell_type": "code",
   "execution_count": 72,
   "outputs": [],
   "source": [
    "def GetPositiveDf(df):\n",
    "    return df[df['rating'] >= 3]\n",
    "\n",
    "\n",
    "ml_100k_positive_df = GetPositiveDf(ml_100k_df)\n",
    "ml_small_positive_df = GetPositiveDf(ml_small_df)"
   ],
   "metadata": {
    "collapsed": false
   }
  },
  {
   "cell_type": "code",
   "execution_count": 73,
   "outputs": [
    {
     "name": "stdout",
     "output_type": "stream",
     "text": [
      "Total Edges : 82520\n",
      "Total User : 943\n",
      "Total item : 1574                 \n",
      "Smallest user id : 1                 \n",
      "biggest user id : 943                 \n",
      "Smallest item id : 1                 \n",
      "biggest item id : 1682                 \n",
      "Min Interaction Per user : 6                 \n",
      "Max Interaction Per user : 509                 \n",
      "Avg Interaction Per user : 87.50795334040296                \n",
      "Min Interaction Per item : 1                 \n",
      "Max Interaction Per item : 558                 \n",
      "Avg Interaction Per item : 52.42693773824651\n"
     ]
    }
   ],
   "source": [
    "print_info(ml_100k_positive_df)"
   ],
   "metadata": {
    "collapsed": false
   }
  },
  {
   "cell_type": "code",
   "execution_count": 74,
   "outputs": [
    {
     "name": "stdout",
     "output_type": "stream",
     "text": [
      "Total Edges : 81763\n",
      "Total User : 609\n",
      "Total item : 8452                 \n",
      "Smallest user id : 1                 \n",
      "biggest user id : 610                 \n",
      "Smallest item id : 1                 \n",
      "biggest item id : 193609                 \n",
      "Min Interaction Per user : 4                 \n",
      "Max Interaction Per user : 2117                 \n",
      "Avg Interaction Per user : 134.25779967159278                \n",
      "Min Interaction Per item : 1                 \n",
      "Max Interaction Per item : 315                 \n",
      "Avg Interaction Per item : 9.673805016564128\n"
     ]
    }
   ],
   "source": [
    "print_info(ml_small_positive_df)"
   ],
   "metadata": {
    "collapsed": false
   }
  },
  {
   "cell_type": "markdown",
   "source": [
    "3. 10개 미만 interaction 삭제"
   ],
   "metadata": {
    "collapsed": false
   }
  },
  {
   "cell_type": "code",
   "execution_count": 75,
   "outputs": [],
   "source": [
    "def GetVailidDf(fdf):\n",
    "    while fdf.user.value_counts().min() < FILT_THRESHOLD or fdf.item.value_counts().min() < FILT_THRESHOLD:\n",
    "        df_item = fdf.groupby('item').count()\n",
    "        df_item = df_item[df_item.user < FILT_THRESHOLD]\n",
    "        li = df_item.index.to_list()\n",
    "        fdf = fdf.drop(fdf.loc[fdf.item.isin(li)].index)\n",
    "        # print_info(fdf)\n",
    "        df_usr = fdf.groupby('user').count()\n",
    "        df_usr = df_usr[df_usr.item < FILT_THRESHOLD]\n",
    "        li = df_usr.index.to_list()\n",
    "        fdf = fdf.drop(fdf.loc[fdf.user.isin(li)].index)\n",
    "    fdf = fdf.reset_index().drop(columns=['index'])\n",
    "    return fdf\n",
    "\n",
    "\n",
    "ml_100k_vailid_df = GetVailidDf(ml_100k_positive_df)\n",
    "ml_small_vailid_df = GetVailidDf(ml_small_positive_df)"
   ],
   "metadata": {
    "collapsed": false
   }
  },
  {
   "cell_type": "markdown",
   "source": [
    "4. 시간 오름차순 정렬"
   ],
   "metadata": {
    "collapsed": false
   }
  },
  {
   "cell_type": "code",
   "execution_count": 76,
   "outputs": [],
   "source": [
    "def GetSortedTimestampDf(df):\n",
    "    df['time'] = pd.to_datetime(df['time'])\n",
    "    df = df.sort_values('time')\n",
    "    return df\n",
    "\n",
    "\n",
    "pre_ml_100k_df = GetSortedTimestampDf(ml_100k_vailid_df)\n",
    "pre_ml_small_df = GetSortedTimestampDf(ml_small_vailid_df)"
   ],
   "metadata": {
    "collapsed": false
   }
  },
  {
   "cell_type": "code",
   "execution_count": 77,
   "outputs": [
    {
     "data": {
      "text/plain": "       user    item  rating                          time\n44203   429     434     4.0 1970-01-01 00:00:00.828124615\n44198   429     351     4.0 1970-01-01 00:00:00.828124615\n44197   429     349     3.0 1970-01-01 00:00:00.828124615\n44179   429     227     3.0 1970-01-01 00:00:00.828124615\n44201   429     421     4.0 1970-01-01 00:00:00.828124615\n...     ...     ...     ...                           ...\n23563   233   81845     3.5 1970-01-01 00:00:01.537470521\n26713   272  148626     4.5 1970-01-01 00:00:01.537470612\n26714   272  158238     4.0 1970-01-01 00:00:01.537475893\n20509   210  122916     4.5 1970-01-01 00:00:01.537632280\n53110   514     162     4.0 1970-01-01 00:00:01.537799250\n\n[64760 rows x 4 columns]",
      "text/html": "<div>\n<style scoped>\n    .dataframe tbody tr th:only-of-type {\n        vertical-align: middle;\n    }\n\n    .dataframe tbody tr th {\n        vertical-align: top;\n    }\n\n    .dataframe thead th {\n        text-align: right;\n    }\n</style>\n<table border=\"1\" class=\"dataframe\">\n  <thead>\n    <tr style=\"text-align: right;\">\n      <th></th>\n      <th>user</th>\n      <th>item</th>\n      <th>rating</th>\n      <th>time</th>\n    </tr>\n  </thead>\n  <tbody>\n    <tr>\n      <th>44203</th>\n      <td>429</td>\n      <td>434</td>\n      <td>4.0</td>\n      <td>1970-01-01 00:00:00.828124615</td>\n    </tr>\n    <tr>\n      <th>44198</th>\n      <td>429</td>\n      <td>351</td>\n      <td>4.0</td>\n      <td>1970-01-01 00:00:00.828124615</td>\n    </tr>\n    <tr>\n      <th>44197</th>\n      <td>429</td>\n      <td>349</td>\n      <td>3.0</td>\n      <td>1970-01-01 00:00:00.828124615</td>\n    </tr>\n    <tr>\n      <th>44179</th>\n      <td>429</td>\n      <td>227</td>\n      <td>3.0</td>\n      <td>1970-01-01 00:00:00.828124615</td>\n    </tr>\n    <tr>\n      <th>44201</th>\n      <td>429</td>\n      <td>421</td>\n      <td>4.0</td>\n      <td>1970-01-01 00:00:00.828124615</td>\n    </tr>\n    <tr>\n      <th>...</th>\n      <td>...</td>\n      <td>...</td>\n      <td>...</td>\n      <td>...</td>\n    </tr>\n    <tr>\n      <th>23563</th>\n      <td>233</td>\n      <td>81845</td>\n      <td>3.5</td>\n      <td>1970-01-01 00:00:01.537470521</td>\n    </tr>\n    <tr>\n      <th>26713</th>\n      <td>272</td>\n      <td>148626</td>\n      <td>4.5</td>\n      <td>1970-01-01 00:00:01.537470612</td>\n    </tr>\n    <tr>\n      <th>26714</th>\n      <td>272</td>\n      <td>158238</td>\n      <td>4.0</td>\n      <td>1970-01-01 00:00:01.537475893</td>\n    </tr>\n    <tr>\n      <th>20509</th>\n      <td>210</td>\n      <td>122916</td>\n      <td>4.5</td>\n      <td>1970-01-01 00:00:01.537632280</td>\n    </tr>\n    <tr>\n      <th>53110</th>\n      <td>514</td>\n      <td>162</td>\n      <td>4.0</td>\n      <td>1970-01-01 00:00:01.537799250</td>\n    </tr>\n  </tbody>\n</table>\n<p>64760 rows × 4 columns</p>\n</div>"
     },
     "execution_count": 77,
     "metadata": {},
     "output_type": "execute_result"
    }
   ],
   "source": [
    "pre_ml_small_df"
   ],
   "metadata": {
    "collapsed": false
   }
  },
  {
   "cell_type": "code",
   "execution_count": 78,
   "outputs": [
    {
     "data": {
      "text/plain": "'C:\\\\tech\\\\Study\\\\KCC\\\\dataset\\\\Movielens'"
     },
     "execution_count": 78,
     "metadata": {},
     "output_type": "execute_result"
    }
   ],
   "source": [
    "SAVE_PATH"
   ],
   "metadata": {
    "collapsed": false
   }
  },
  {
   "cell_type": "code",
   "execution_count": 79,
   "outputs": [],
   "source": [
    "pre_ml_100k_df.to_csv(SAVE_PATH + \"\\\\preprocessed_ml_100k.csv\", index=False)\n",
    "pre_ml_small_df.to_csv(SAVE_PATH + \"\\\\preprocessed_ml_small.csv\", index=False)"
   ],
   "metadata": {
    "collapsed": false
   }
  },
  {
   "cell_type": "markdown",
   "source": [],
   "metadata": {
    "collapsed": false
   }
  },
  {
   "cell_type": "markdown",
   "source": [],
   "metadata": {
    "collapsed": false
   }
  },
  {
   "cell_type": "markdown",
   "source": [
    "## 시나리오1, 유저와 아이템 모두 증가. (increase)"
   ],
   "metadata": {
    "collapsed": false
   }
  },
  {
   "cell_type": "code",
   "execution_count": 80,
   "outputs": [],
   "source": [
    "pre_ml_100k_df = pd.read_csv(os.path.join(SAVE_PATH, \"preprocessed_ml_100k.csv\"))\n",
    "pre_ml_small_df = pd.read_csv(os.path.join(SAVE_PATH, \"preprocessed_ml_small.csv\"))"
   ],
   "metadata": {
    "collapsed": false
   }
  },
  {
   "cell_type": "code",
   "execution_count": 81,
   "outputs": [
    {
     "data": {
      "text/plain": "'C:\\\\tech\\\\Study\\\\KCC\\\\dataset\\\\Movielens\\\\increase\\\\'"
     },
     "execution_count": 81,
     "metadata": {},
     "output_type": "execute_result"
    }
   ],
   "source": [
    "# 경로 설정\n",
    "INCREASE_PATH = os.path.join(SAVE_PATH, \"increase\\\\\")\n",
    "INCREASE_PATH"
   ],
   "metadata": {
    "collapsed": false
   }
  },
  {
   "cell_type": "code",
   "execution_count": 82,
   "outputs": [
    {
     "name": "stdout",
     "output_type": "stream",
     "text": [
      "base block size: 56275\n",
      "base block size: 45332\n"
     ]
    }
   ],
   "source": [
    "# base block 설정\n",
    "def SetBaseBlock(df, path, category):\n",
    "    pivot = len(df) * BASE_DATA_RATIO // 10\n",
    "    print(f\"base block size: {pivot}\")\n",
    "    df[:pivot].to_csv(path + category + \"_inc0.csv\", index=False)\n",
    "\n",
    "\n",
    "SetBaseBlock(pre_ml_100k_df, INCREASE_PATH, \"ml_100k\")\n",
    "SetBaseBlock(pre_ml_small_df, INCREASE_PATH, \"ml_small\")"
   ],
   "metadata": {
    "collapsed": false
   }
  },
  {
   "cell_type": "code",
   "execution_count": 83,
   "outputs": [
    {
     "name": "stdout",
     "output_type": "stream",
     "text": [
      "Inc1 Block Size : 4823\n",
      "Inc2 Block Size : 4823\n",
      "Inc3 Block Size : 4823\n",
      "Inc4 Block Size : 4823\n",
      "Inc5 Block Size : 4826\n",
      "Inc1 Block Size : 3885\n",
      "Inc2 Block Size : 3885\n",
      "Inc3 Block Size : 3885\n",
      "Inc4 Block Size : 3885\n",
      "Inc5 Block Size : 3888\n"
     ]
    }
   ],
   "source": [
    "def SetIncreaseBlocks(df, category):\n",
    "    pivot = len(df) * BASE_DATA_RATIO // 10\n",
    "    remain = df[pivot:]\n",
    "    len_per_block = remain.shape[0] // INC_STEP\n",
    "    start = 0\n",
    "    inc_block = []\n",
    "    for i in range(INC_STEP):\n",
    "        if i != INC_STEP - 1:\n",
    "            inc_block.append(remain[start:start + len_per_block])\n",
    "        else:\n",
    "            inc_block.append(remain[start:])\n",
    "        start += len_per_block\n",
    "        print(f\"Inc{i + 1} Block Size : {len(inc_block[i])}\")\n",
    "        inc_block[i].to_csv(INCREASE_PATH + category + f\"_inc{i + 1}.csv\", index=False)\n",
    "\n",
    "\n",
    "SetIncreaseBlocks(pre_ml_100k_df, \"ml_100k\")\n",
    "SetIncreaseBlocks(pre_ml_small_df, \"ml_small\")"
   ],
   "metadata": {
    "collapsed": false
   }
  },
  {
   "cell_type": "markdown",
   "source": [],
   "metadata": {
    "collapsed": false
   }
  },
  {
   "cell_type": "markdown",
   "source": [],
   "metadata": {
    "collapsed": false
   }
  },
  {
   "cell_type": "markdown",
   "source": [
    "## 시나리오2, 유저와 아이템 모두 고정. (fixed)"
   ],
   "metadata": {
    "collapsed": false
   }
  },
  {
   "cell_type": "code",
   "execution_count": 84,
   "outputs": [],
   "source": [
    "pre_ml_100k_df = pd.read_csv(os.path.join(SAVE_PATH, \"preprocessed_ml_100k.csv\"))\n",
    "pre_ml_small_df = pd.read_csv(os.path.join(SAVE_PATH, \"preprocessed_ml_small.csv\"))"
   ],
   "metadata": {
    "collapsed": false
   }
  },
  {
   "cell_type": "code",
   "execution_count": 85,
   "outputs": [
    {
     "data": {
      "text/plain": "'C:\\\\tech\\\\Study\\\\KCC\\\\dataset\\\\Movielens\\\\fixed\\\\'"
     },
     "execution_count": 85,
     "metadata": {},
     "output_type": "execute_result"
    }
   ],
   "source": [
    "FIXED_PATH = os.path.join(SAVE_PATH, \"fixed\\\\\")\n",
    "FIXED_PATH"
   ],
   "metadata": {
    "collapsed": false
   }
  },
  {
   "cell_type": "code",
   "execution_count": 86,
   "outputs": [
    {
     "name": "stdout",
     "output_type": "stream",
     "text": [
      "base block size: 56275\n",
      "base block size: 45332\n"
     ]
    }
   ],
   "source": [
    "# base block 설정\n",
    "SetBaseBlock(pre_ml_100k_df, FIXED_PATH, \"ml_100k\")\n",
    "SetBaseBlock(pre_ml_small_df, FIXED_PATH, \"ml_small\")"
   ],
   "metadata": {
    "collapsed": false
   }
  },
  {
   "cell_type": "code",
   "execution_count": 87,
   "outputs": [
    {
     "name": "stdout",
     "output_type": "stream",
     "text": [
      "Inc1 Block Size : 626\n",
      "Inc2 Block Size : 626\n",
      "Inc3 Block Size : 626\n",
      "Inc4 Block Size : 626\n",
      "Inc5 Block Size : 627\n",
      "Inc1 Block Size : 190\n",
      "Inc2 Block Size : 190\n",
      "Inc3 Block Size : 190\n",
      "Inc4 Block Size : 190\n",
      "Inc5 Block Size : 193\n"
     ]
    }
   ],
   "source": [
    "\n",
    "def SetFixedBlocks(df, category):\n",
    "    pivot = len(df) * BASE_DATA_RATIO // 10\n",
    "    # base block에 있는 unique한 user, item index 추출\n",
    "    unique_user = df[:pivot]['user'].unique()\n",
    "    unique_item = df[:pivot]['item'].unique()\n",
    "    # remain block에서 unique user/item에 해당하는 데이터만 추출\n",
    "    remain = df[pivot:]\n",
    "    fixed_df = remain[remain['user'].isin(unique_user) & remain['item'].isin(unique_item)]\n",
    "    len_per_block = fixed_df.shape[0] // INC_STEP\n",
    "    start = 0\n",
    "    inc_block = []\n",
    "    for i in range(INC_STEP):\n",
    "        if i != INC_STEP - 1:\n",
    "            inc_block.append(fixed_df[start:start + len_per_block])\n",
    "        else:\n",
    "            inc_block.append(fixed_df[start:])\n",
    "        start += len_per_block\n",
    "        print(f\"Inc{i + 1} Block Size : {len(inc_block[i])}\")\n",
    "        inc_block[i].to_csv(FIXED_PATH + category + f\"_inc{i + 1}.csv\", index=False)\n",
    "\n",
    "\n",
    "SetFixedBlocks(pre_ml_100k_df, \"ml_100k\")\n",
    "SetFixedBlocks(pre_ml_small_df, \"ml_small\")"
   ],
   "metadata": {
    "collapsed": false
   }
  },
  {
   "cell_type": "markdown",
   "source": [],
   "metadata": {
    "collapsed": false
   }
  },
  {
   "cell_type": "markdown",
   "source": [],
   "metadata": {
    "collapsed": false
   }
  },
  {
   "cell_type": "markdown",
   "source": [
    "## 시나리오3, 유저만 증가 (user)"
   ],
   "metadata": {
    "collapsed": false
   }
  },
  {
   "cell_type": "code",
   "execution_count": 88,
   "outputs": [],
   "source": [
    "pre_ml_100k_df = pd.read_csv(os.path.join(SAVE_PATH, \"preprocessed_ml_100k.csv\"))\n",
    "pre_ml_small_df = pd.read_csv(os.path.join(SAVE_PATH, \"preprocessed_ml_small.csv\"))"
   ],
   "metadata": {
    "collapsed": false
   }
  },
  {
   "cell_type": "code",
   "execution_count": 89,
   "outputs": [
    {
     "data": {
      "text/plain": "'C:\\\\tech\\\\Study\\\\KCC\\\\dataset\\\\Movielens\\\\user\\\\'"
     },
     "execution_count": 89,
     "metadata": {},
     "output_type": "execute_result"
    }
   ],
   "source": [
    "USER_PATH = os.path.join(SAVE_PATH, \"user\\\\\")\n",
    "USER_PATH"
   ],
   "metadata": {
    "collapsed": false
   }
  },
  {
   "cell_type": "code",
   "execution_count": 90,
   "outputs": [
    {
     "name": "stdout",
     "output_type": "stream",
     "text": [
      "base block size: 56275\n",
      "base block size: 45332\n"
     ]
    }
   ],
   "source": [
    "# base block 설정\n",
    "SetBaseBlock(pre_ml_100k_df, USER_PATH, \"ml_100k\")\n",
    "SetBaseBlock(pre_ml_small_df, USER_PATH, \"ml_small\")"
   ],
   "metadata": {
    "collapsed": false
   }
  },
  {
   "cell_type": "code",
   "execution_count": 91,
   "outputs": [
    {
     "name": "stdout",
     "output_type": "stream",
     "text": [
      "Inc1 Block Size : 4173\n",
      "Inc2 Block Size : 4173\n",
      "Inc3 Block Size : 4173\n",
      "Inc4 Block Size : 4173\n",
      "Inc5 Block Size : 4174\n",
      "Inc1 Block Size : 3613\n",
      "Inc2 Block Size : 3613\n",
      "Inc3 Block Size : 3613\n",
      "Inc4 Block Size : 3613\n",
      "Inc5 Block Size : 3615\n"
     ]
    }
   ],
   "source": [
    "def SetUserBlocks(df, category):\n",
    "    pivot = len(df) * BASE_DATA_RATIO // 10\n",
    "    # base block에 있는 unique한 user index 추출\n",
    "    unique_user = df[:pivot]['user'].unique()\n",
    "    # base block에 존재하는 unique한 user index를 제외하여 remain을 형성하자.\n",
    "    remain = df[pivot:]\n",
    "    new_user_remain_df = remain[~remain['user'].isin(unique_user)]\n",
    "    len_per_block = new_user_remain_df.shape[0] // INC_STEP\n",
    "    start = 0\n",
    "    inc_block = []\n",
    "    for i in range(INC_STEP):\n",
    "        if i != INC_STEP - 1:\n",
    "            inc_block.append(new_user_remain_df[start:start + len_per_block])\n",
    "        else:\n",
    "            inc_block.append(new_user_remain_df[start:])\n",
    "        start += len_per_block\n",
    "        print(f\"Inc{i + 1} Block Size : {len(inc_block[i])}\")\n",
    "        inc_block[i].to_csv(USER_PATH + category + f\"_inc{i + 1}.csv\")\n",
    "\n",
    "\n",
    "SetUserBlocks(pre_ml_100k_df, \"ml_100k\")\n",
    "SetUserBlocks(pre_ml_small_df, \"ml_small\")"
   ],
   "metadata": {
    "collapsed": false
   }
  },
  {
   "cell_type": "markdown",
   "source": [],
   "metadata": {
    "collapsed": false
   }
  },
  {
   "cell_type": "markdown",
   "source": [],
   "metadata": {
    "collapsed": false
   }
  },
  {
   "cell_type": "markdown",
   "source": [
    "## 시나리오4, 아이템만 증가. (item)"
   ],
   "metadata": {
    "collapsed": false
   }
  },
  {
   "cell_type": "code",
   "execution_count": 92,
   "outputs": [],
   "source": [
    "pre_ml_100k_df = pd.read_csv(os.path.join(SAVE_PATH, \"preprocessed_ml_100k.csv\"))\n",
    "pre_ml_small_df = pd.read_csv(os.path.join(SAVE_PATH, \"preprocessed_ml_small.csv\"))"
   ],
   "metadata": {
    "collapsed": false
   }
  },
  {
   "cell_type": "code",
   "execution_count": 93,
   "outputs": [
    {
     "data": {
      "text/plain": "'C:\\\\tech\\\\Study\\\\KCC\\\\dataset\\\\Movielens\\\\item\\\\'"
     },
     "execution_count": 93,
     "metadata": {},
     "output_type": "execute_result"
    }
   ],
   "source": [
    "ITEM_PATH = os.path.join(SAVE_PATH, \"item\\\\\")\n",
    "ITEM_PATH"
   ],
   "metadata": {
    "collapsed": false
   }
  },
  {
   "cell_type": "code",
   "execution_count": 94,
   "outputs": [
    {
     "name": "stdout",
     "output_type": "stream",
     "text": [
      "base block size: 56275\n",
      "base block size: 45332\n"
     ]
    }
   ],
   "source": [
    "# base block 설정\n",
    "SetBaseBlock(pre_ml_100k_df, ITEM_PATH, \"ml_100k\")\n",
    "SetBaseBlock(pre_ml_small_df, ITEM_PATH, \"ml_small\")"
   ],
   "metadata": {
    "collapsed": false
   }
  },
  {
   "cell_type": "code",
   "execution_count": 95,
   "outputs": [
    {
     "name": "stdout",
     "output_type": "stream",
     "text": [
      "Inc1 Block Size : 68\n",
      "Inc2 Block Size : 68\n",
      "Inc3 Block Size : 68\n",
      "Inc4 Block Size : 68\n",
      "Inc5 Block Size : 69\n",
      "Inc1 Block Size : 512\n",
      "Inc2 Block Size : 512\n",
      "Inc3 Block Size : 512\n",
      "Inc4 Block Size : 512\n",
      "Inc5 Block Size : 516\n"
     ]
    }
   ],
   "source": [
    "def SetItemBlocks(df, category):\n",
    "    pivot = len(df) * BASE_DATA_RATIO // 10\n",
    "    # base block에 있는 unique한 item index 추출\n",
    "    unique_item = df[:pivot]['item'].unique()\n",
    "    # base block에 존재하는 unique한 user index를 제외하여 remain을 형성하자.\n",
    "    remain = df[pivot:]\n",
    "    new_item_remain_df = remain[~remain['item'].isin(unique_item)]\n",
    "    len_per_block = new_item_remain_df.shape[0] // INC_STEP\n",
    "    start = 0\n",
    "    inc_block = []\n",
    "    for i in range(INC_STEP):\n",
    "        if i != INC_STEP - 1:\n",
    "            inc_block.append(new_item_remain_df[start:start + len_per_block])\n",
    "        else:\n",
    "            inc_block.append(new_item_remain_df[start:])\n",
    "        start += len_per_block\n",
    "        print(f\"Inc{i + 1} Block Size : {len(inc_block[i])}\")\n",
    "        inc_block[i].to_csv(ITEM_PATH + category + f\"_inc{i + 1}.csv\")\n",
    "\n",
    "SetItemBlocks(pre_ml_100k_df, \"ml_100k\")\n",
    "SetItemBlocks(pre_ml_small_df, \"ml_small\")"
   ],
   "metadata": {
    "collapsed": false
   }
  }
 ],
 "metadata": {
  "kernelspec": {
   "display_name": "Python 3",
   "language": "python",
   "name": "python3"
  },
  "language_info": {
   "codemirror_mode": {
    "name": "ipython",
    "version": 2
   },
   "file_extension": ".py",
   "mimetype": "text/x-python",
   "name": "python",
   "nbconvert_exporter": "python",
   "pygments_lexer": "ipython2",
   "version": "2.7.6"
  }
 },
 "nbformat": 4,
 "nbformat_minor": 0
}
