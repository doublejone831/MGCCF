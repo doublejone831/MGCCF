{
 "cells": [
  {
   "cell_type": "code",
   "execution_count": 26,
   "metadata": {
    "collapsed": true
   },
   "outputs": [],
   "source": [
    "import pandas as pd\n",
    "import numpy as np\n",
    "import os\n",
    "from os.path import join"
   ]
  },
  {
   "cell_type": "markdown",
   "source": [],
   "metadata": {
    "collapsed": false
   }
  },
  {
   "cell_type": "markdown",
   "source": [],
   "metadata": {
    "collapsed": false
   }
  },
  {
   "cell_type": "markdown",
   "source": [
    "## 데이터 로딩"
   ],
   "metadata": {
    "collapsed": false
   }
  },
  {
   "cell_type": "code",
   "execution_count": 52,
   "outputs": [
    {
     "name": "stdout",
     "output_type": "stream",
     "text": [
      "\n",
      "ROOT_PATH: C:\\Users\\PC\\Desktop\\Study\\KCC-지원-dataset\n",
      "DATA_PATH: C:\\Users\\PC\\Desktop\\Study\\KCC-지원-dataset\\dataset\\Gowalla\n",
      "SAVE_PATH: C:\\Users\\PC\\Desktop\\Study\\KCC-지원-dataset\\dataset\\Gowalla\n",
      "FILE_PATH: C:\\Users\\PC\\Desktop\\Study\\KCC-지원-dataset\\dataset\\Gowalla\\Gowalla_totalCheckins.txt\n",
      "\n"
     ]
    }
   ],
   "source": [
    "DATA_NAME = \"Gowalla\"\n",
    "FILE_NAME = \"Gowalla_totalCheckins.txt\"\n",
    "COL_NAMES = ['user','time','lat','long','item']\n",
    "BASE_DATA_RATIO = 7# N/10\n",
    "INC_RATIO = 3\n",
    "INC_STEP = 5\n",
    "\n",
    "# config\n",
    "ROOT_PATH = os.path.abspath(\"\")\n",
    "DATA_PATH = join(ROOT_PATH+\"\\\\dataset\", DATA_NAME)\n",
    "SAVE_PATH = DATA_PATH\n",
    "FILE_PATH = join(DATA_PATH, FILE_NAME)\n",
    "FILT_THRESHOLD = 10\n",
    "\n",
    "print(f\"\"\"\n",
    "ROOT_PATH: {ROOT_PATH}\n",
    "DATA_PATH: {DATA_PATH}\n",
    "SAVE_PATH: {SAVE_PATH}\n",
    "FILE_PATH: {FILE_PATH}\n",
    "\"\"\")"
   ],
   "metadata": {
    "collapsed": false
   }
  },
  {
   "cell_type": "code",
   "execution_count": 53,
   "outputs": [],
   "source": [
    "def print_info(df):\n",
    "    \"\"\"\n",
    "    그래프 정보 출력\n",
    "    \"\"\"\n",
    "    print(f\"Total Edges : {len(df)}\\nTotal User : {len(df['user'].unique())}\\nTotal item : {len(df['item'].unique())} \\\n",
    "                \\nSmallest user id : {df['user'].unique().min()} \\\n",
    "                \\nbiggest user id : {df['user'].unique().max()} \\\n",
    "                \\nSmallest item id : {df['item'].unique().min()} \\\n",
    "                \\nbiggest item id : {df['item'].unique().max()} \\\n",
    "                \\nMin Interaction Per user : {df.user.value_counts().min()} \\\n",
    "                \\nMax Interaction Per user : {df.user.value_counts().max()} \\\n",
    "                \\nAvg Interaction Per user : {df.user.value_counts().mean()}\\\n",
    "                \\nMin Interaction Per item : {df.item.value_counts().min()} \\\n",
    "                \\nMax Interaction Per item : {df.item.value_counts().max()} \\\n",
    "                \\nAvg Interaction Per item : {df.item.value_counts().mean()}\")"
   ],
   "metadata": {
    "collapsed": false
   }
  },
  {
   "cell_type": "code",
   "execution_count": 54,
   "outputs": [
    {
     "name": "stdout",
     "output_type": "stream",
     "text": [
      "Total Edges : 6442892\n",
      "Total User : 107092\n",
      "Total item : 1280969                 \n",
      "Smallest user id : 0                 \n",
      "biggest user id : 196585                 \n",
      "Smallest item id : 8904                 \n",
      "biggest item id : 5977757                 \n",
      "Min Interaction Per user : 1                 \n",
      "Max Interaction Per user : 2175                 \n",
      "Avg Interaction Per user : 60.16221566503567                \n",
      "Min Interaction Per item : 1                 \n",
      "Max Interaction Per item : 5811                 \n",
      "Avg Interaction Per item : 5.029701733609478\n"
     ]
    }
   ],
   "source": [
    "# Load File\n",
    "origin_df = pd.read_table(FILE_PATH, names=COL_NAMES)\n",
    "print_info(origin_df)"
   ],
   "metadata": {
    "collapsed": false
   }
  },
  {
   "cell_type": "code",
   "execution_count": 55,
   "outputs": [],
   "source": [
    "def refactoring_from_0(df):\n",
    "    \"\"\"\n",
    "    :param df: 데이터\n",
    "    :return: 유저, 아이템 인덱스 전처리 후 데이터\n",
    "    \"\"\"\n",
    "    out_df = pd.DataFrame()\n",
    "\n",
    "    original_uid = np.sort(df['user'].unique())\n",
    "    original_iid = np.sort(df['item'].unique())\n",
    "\n",
    "    u_range = range(len(original_uid))\n",
    "    i_range = range(len(original_iid))\n",
    "\n",
    "    uid_mapping = { o_id: n_id for o_id, n_id in zip(original_uid, u_range)} # 원래 유저 아이디 (중간중간 비어있음) : 순서대로 유저 아이디\n",
    "    iid_mapping = { o_id: n_id for o_id, n_id in zip(original_iid,i_range)} # 원래 아이템 아이디 : 순서대로 아이템 아이디\n",
    "\n",
    "    uid_map = pd.DataFrame({'o_id' : list(uid_mapping.keys()), 'n_id' : list(uid_mapping.values())})\n",
    "\n",
    "    iid_map = pd.DataFrame({'o_id' : list(iid_mapping.keys()),'n_id':list(iid_mapping.values())})\n",
    "\n",
    "\n",
    "    out_df['user'] = df['user'].map(uid_mapping)\n",
    "    out_df['item'] = df['item'].map(iid_mapping)\n",
    "    out_df['time'] = df['time']\n",
    "    return out_df, uid_map, iid_map"
   ],
   "metadata": {
    "collapsed": false
   }
  },
  {
   "cell_type": "code",
   "execution_count": 56,
   "outputs": [
    {
     "name": "stdout",
     "output_type": "stream",
     "text": [
      "Total Edges : 6442892\n",
      "Total User : 107092\n",
      "Total item : 1280969                 \n",
      "Smallest user id : 0                 \n",
      "biggest user id : 107091                 \n",
      "Smallest item id : 0                 \n",
      "biggest item id : 1280968                 \n",
      "Min Interaction Per user : 1                 \n",
      "Max Interaction Per user : 2175                 \n",
      "Avg Interaction Per user : 60.16221566503567                \n",
      "Min Interaction Per item : 1                 \n",
      "Max Interaction Per item : 5811                 \n",
      "Avg Interaction Per item : 5.029701733609478\n"
     ]
    },
    {
     "data": {
      "text/plain": "           user     item                  time\n0             0    11319  2010-10-19T23:55:27Z\n1             0   316537  2010-10-18T22:17:43Z\n2             0   240915  2010-10-17T23:42:03Z\n3             0     6334  2010-10-17T19:26:05Z\n4             0  1267091  2010-10-16T18:50:42Z\n...         ...      ...                   ...\n6442887  107090   641922  2010-06-11T13:32:26Z\n6442888  107090   679059  2010-06-11T13:26:45Z\n6442889  107090   808233  2010-06-11T13:26:34Z\n6442890  107091   353112  2010-10-08T21:01:49Z\n6442891  107091  1213605  2010-10-07T17:39:18Z\n\n[6442892 rows x 3 columns]",
      "text/html": "<div>\n<style scoped>\n    .dataframe tbody tr th:only-of-type {\n        vertical-align: middle;\n    }\n\n    .dataframe tbody tr th {\n        vertical-align: top;\n    }\n\n    .dataframe thead th {\n        text-align: right;\n    }\n</style>\n<table border=\"1\" class=\"dataframe\">\n  <thead>\n    <tr style=\"text-align: right;\">\n      <th></th>\n      <th>user</th>\n      <th>item</th>\n      <th>time</th>\n    </tr>\n  </thead>\n  <tbody>\n    <tr>\n      <th>0</th>\n      <td>0</td>\n      <td>11319</td>\n      <td>2010-10-19T23:55:27Z</td>\n    </tr>\n    <tr>\n      <th>1</th>\n      <td>0</td>\n      <td>316537</td>\n      <td>2010-10-18T22:17:43Z</td>\n    </tr>\n    <tr>\n      <th>2</th>\n      <td>0</td>\n      <td>240915</td>\n      <td>2010-10-17T23:42:03Z</td>\n    </tr>\n    <tr>\n      <th>3</th>\n      <td>0</td>\n      <td>6334</td>\n      <td>2010-10-17T19:26:05Z</td>\n    </tr>\n    <tr>\n      <th>4</th>\n      <td>0</td>\n      <td>1267091</td>\n      <td>2010-10-16T18:50:42Z</td>\n    </tr>\n    <tr>\n      <th>...</th>\n      <td>...</td>\n      <td>...</td>\n      <td>...</td>\n    </tr>\n    <tr>\n      <th>6442887</th>\n      <td>107090</td>\n      <td>641922</td>\n      <td>2010-06-11T13:32:26Z</td>\n    </tr>\n    <tr>\n      <th>6442888</th>\n      <td>107090</td>\n      <td>679059</td>\n      <td>2010-06-11T13:26:45Z</td>\n    </tr>\n    <tr>\n      <th>6442889</th>\n      <td>107090</td>\n      <td>808233</td>\n      <td>2010-06-11T13:26:34Z</td>\n    </tr>\n    <tr>\n      <th>6442890</th>\n      <td>107091</td>\n      <td>353112</td>\n      <td>2010-10-08T21:01:49Z</td>\n    </tr>\n    <tr>\n      <th>6442891</th>\n      <td>107091</td>\n      <td>1213605</td>\n      <td>2010-10-07T17:39:18Z</td>\n    </tr>\n  </tbody>\n</table>\n<p>6442892 rows × 3 columns</p>\n</div>"
     },
     "execution_count": 56,
     "metadata": {},
     "output_type": "execute_result"
    }
   ],
   "source": [
    "refactored_df, uid_map, iid_map = refactoring_from_0(origin_df)\n",
    "print_info(refactored_df)\n",
    "refactored_df"
   ],
   "metadata": {
    "collapsed": false
   }
  },
  {
   "cell_type": "code",
   "execution_count": 57,
   "outputs": [],
   "source": [
    "# Save refactored dataframe\n",
    "refactored_df.to_csv(join(SAVE_PATH, \"refactored.csv\"))"
   ],
   "metadata": {
    "collapsed": false
   }
  },
  {
   "cell_type": "markdown",
   "source": [],
   "metadata": {
    "collapsed": false
   }
  },
  {
   "cell_type": "markdown",
   "source": [],
   "metadata": {
    "collapsed": false
   }
  },
  {
   "cell_type": "markdown",
   "source": [
    "## 데이터 전처리"
   ],
   "metadata": {
    "collapsed": false
   }
  },
  {
   "cell_type": "markdown",
   "source": [
    "1. 중복 제거"
   ],
   "metadata": {
    "collapsed": false
   }
  },
  {
   "cell_type": "code",
   "execution_count": 85,
   "outputs": [
    {
     "name": "stdout",
     "output_type": "stream",
     "text": [
      "원본\n",
      "Total Edges : 6442892\n",
      "Total User : 107092\n",
      "Total item : 1280969                 \n",
      "Smallest user id : 0                 \n",
      "biggest user id : 107091                 \n",
      "Smallest item id : 0                 \n",
      "biggest item id : 1280968                 \n",
      "Min Interaction Per user : 1                 \n",
      "Max Interaction Per user : 2175                 \n",
      "Avg Interaction Per user : 60.16221566503567                \n",
      "Min Interaction Per item : 1                 \n",
      "Max Interaction Per item : 5811                 \n",
      "Avg Interaction Per item : 5.029701733609478\n"
     ]
    }
   ],
   "source": [
    "print(\"원본\")\n",
    "print_info(refactored_df)"
   ],
   "metadata": {
    "collapsed": false
   }
  },
  {
   "cell_type": "code",
   "execution_count": 86,
   "outputs": [
    {
     "name": "stdout",
     "output_type": "stream",
     "text": [
      "중복 제거\n",
      "Total Edges : 3981334\n",
      "Total User : 107092\n",
      "Total item : 1280969                 \n",
      "Smallest user id : 0                 \n",
      "biggest user id : 107091                 \n",
      "Smallest item id : 0                 \n",
      "biggest item id : 1280968                 \n",
      "Min Interaction Per user : 1                 \n",
      "Max Interaction Per user : 2064                 \n",
      "Avg Interaction Per user : 37.176763903933065                \n",
      "Min Interaction Per item : 1                 \n",
      "Max Interaction Per item : 2631                 \n",
      "Avg Interaction Per item : 3.1080642857087097\n"
     ]
    }
   ],
   "source": [
    "drop_dupliacted_df = refactored_df.drop_duplicates(subset=['user', 'item'])\n",
    "print(\"중복 제거\")\n",
    "print_info(drop_dupliacted_df)"
   ],
   "metadata": {
    "collapsed": false
   }
  },
  {
   "cell_type": "markdown",
   "source": [
    "2. 10개 미만 interaction 삭제"
   ],
   "metadata": {
    "collapsed": false
   }
  },
  {
   "cell_type": "code",
   "execution_count": 103,
   "outputs": [
    {
     "data": {
      "text/plain": "           user     item                  time\n0             0    11319  2010-10-19T23:55:27Z\n1             0   316537  2010-10-18T22:17:43Z\n2             0   240915  2010-10-17T23:42:03Z\n3             0     6334  2010-10-17T19:26:05Z\n4             0  1267091  2010-10-16T18:50:42Z\n...         ...      ...                   ...\n6442884  107090   571537  2010-06-11T13:33:27Z\n6442885  107090   452539  2010-06-11T13:32:50Z\n6442886  107090   679015  2010-06-11T13:32:40Z\n6442887  107090   641922  2010-06-11T13:32:26Z\n6442888  107090   679059  2010-06-11T13:26:45Z\n\n[3808756 rows x 3 columns]",
      "text/html": "<div>\n<style scoped>\n    .dataframe tbody tr th:only-of-type {\n        vertical-align: middle;\n    }\n\n    .dataframe tbody tr th {\n        vertical-align: top;\n    }\n\n    .dataframe thead th {\n        text-align: right;\n    }\n</style>\n<table border=\"1\" class=\"dataframe\">\n  <thead>\n    <tr style=\"text-align: right;\">\n      <th></th>\n      <th>user</th>\n      <th>item</th>\n      <th>time</th>\n    </tr>\n  </thead>\n  <tbody>\n    <tr>\n      <th>0</th>\n      <td>0</td>\n      <td>11319</td>\n      <td>2010-10-19T23:55:27Z</td>\n    </tr>\n    <tr>\n      <th>1</th>\n      <td>0</td>\n      <td>316537</td>\n      <td>2010-10-18T22:17:43Z</td>\n    </tr>\n    <tr>\n      <th>2</th>\n      <td>0</td>\n      <td>240915</td>\n      <td>2010-10-17T23:42:03Z</td>\n    </tr>\n    <tr>\n      <th>3</th>\n      <td>0</td>\n      <td>6334</td>\n      <td>2010-10-17T19:26:05Z</td>\n    </tr>\n    <tr>\n      <th>4</th>\n      <td>0</td>\n      <td>1267091</td>\n      <td>2010-10-16T18:50:42Z</td>\n    </tr>\n    <tr>\n      <th>...</th>\n      <td>...</td>\n      <td>...</td>\n      <td>...</td>\n    </tr>\n    <tr>\n      <th>6442884</th>\n      <td>107090</td>\n      <td>571537</td>\n      <td>2010-06-11T13:33:27Z</td>\n    </tr>\n    <tr>\n      <th>6442885</th>\n      <td>107090</td>\n      <td>452539</td>\n      <td>2010-06-11T13:32:50Z</td>\n    </tr>\n    <tr>\n      <th>6442886</th>\n      <td>107090</td>\n      <td>679015</td>\n      <td>2010-06-11T13:32:40Z</td>\n    </tr>\n    <tr>\n      <th>6442887</th>\n      <td>107090</td>\n      <td>641922</td>\n      <td>2010-06-11T13:32:26Z</td>\n    </tr>\n    <tr>\n      <th>6442888</th>\n      <td>107090</td>\n      <td>679059</td>\n      <td>2010-06-11T13:26:45Z</td>\n    </tr>\n  </tbody>\n</table>\n<p>3808756 rows × 3 columns</p>\n</div>"
     },
     "execution_count": 103,
     "metadata": {},
     "output_type": "execute_result"
    }
   ],
   "source": [
    "# user별 등장 횟수 계산\n",
    "user_count = drop_dupliacted_df.groupby(\"user\").size().reset_index(name=\"count\")\n",
    "# user_count[user_count['count'] > 10].sort_values(by=\"count\")\n",
    "# # 등장 횟수가 10번 초과인 user 추출\n",
    "filtered_user = user_count[user_count['count'] > 10]['user']\n",
    "# # 해당 user를 포함한 데이터프레임 추출\n",
    "filtered_user_df = drop_dupliacted_df[drop_dupliacted_df['user'].isin(filtered_user)]\n",
    "filtered_user_df.groupby(\"user\").size().sort_values()\n",
    "filtered_user_df"
   ],
   "metadata": {
    "collapsed": false
   }
  },
  {
   "cell_type": "code",
   "execution_count": 109,
   "outputs": [
    {
     "name": "stdout",
     "output_type": "stream",
     "text": [
      "Total Edges : 1224790\n",
      "Total User : 62523\n",
      "Total item : 46370                 \n",
      "Smallest user id : 0                 \n",
      "biggest user id : 107089                 \n",
      "Smallest item id : 1                 \n",
      "biggest item id : 1279995                 \n",
      "Min Interaction Per user : 1                 \n",
      "Max Interaction Per user : 993                 \n",
      "Avg Interaction Per user : 19.589431089359117                \n",
      "Min Interaction Per item : 11                 \n",
      "Max Interaction Per item : 2524                 \n",
      "Avg Interaction Per item : 26.41341384515851\n"
     ]
    }
   ],
   "source": [
    "# item별 등장 횟수 계산\n",
    "item_count = filtered_user_df.groupby(\"item\").size().reset_index(name=\"count\")\n",
    "# # 등장 횟수가 10번 초과인 user 추출\n",
    "filtered_item = item_count[item_count['count'] > 10]['item']\n",
    "# # 해당 user를 포함한 데이터프레임 추출\n",
    "filtered_df = filtered_user_df[filtered_user_df['item'].isin(filtered_item)]\n",
    "print_info(filtered_df)"
   ],
   "metadata": {
    "collapsed": false
   }
  },
  {
   "cell_type": "markdown",
   "source": [
    "3. 유저 아이템 인덱스 0부터 설정"
   ],
   "metadata": {
    "collapsed": false
   }
  },
  {
   "cell_type": "code",
   "execution_count": null,
   "outputs": [],
   "source": [],
   "metadata": {
    "collapsed": false
   }
  },
  {
   "cell_type": "code",
   "execution_count": null,
   "outputs": [],
   "source": [],
   "metadata": {
    "collapsed": false
   }
  },
  {
   "cell_type": "code",
   "execution_count": null,
   "outputs": [],
   "source": [],
   "metadata": {
    "collapsed": false
   }
  },
  {
   "cell_type": "code",
   "execution_count": null,
   "outputs": [],
   "source": [],
   "metadata": {
    "collapsed": false
   }
  },
  {
   "cell_type": "code",
   "execution_count": null,
   "outputs": [],
   "source": [],
   "metadata": {
    "collapsed": false
   }
  },
  {
   "cell_type": "code",
   "execution_count": null,
   "outputs": [],
   "source": [],
   "metadata": {
    "collapsed": false
   }
  },
  {
   "cell_type": "code",
   "execution_count": null,
   "outputs": [],
   "source": [],
   "metadata": {
    "collapsed": false
   }
  },
  {
   "cell_type": "code",
   "execution_count": null,
   "outputs": [],
   "source": [],
   "metadata": {
    "collapsed": false
   }
  },
  {
   "cell_type": "code",
   "execution_count": null,
   "outputs": [],
   "source": [],
   "metadata": {
    "collapsed": false
   }
  },
  {
   "cell_type": "code",
   "execution_count": null,
   "outputs": [],
   "source": [],
   "metadata": {
    "collapsed": false
   }
  },
  {
   "cell_type": "code",
   "execution_count": null,
   "outputs": [],
   "source": [],
   "metadata": {
    "collapsed": false
   }
  }
 ],
 "metadata": {
  "kernelspec": {
   "display_name": "Python 3",
   "language": "python",
   "name": "python3"
  },
  "language_info": {
   "codemirror_mode": {
    "name": "ipython",
    "version": 2
   },
   "file_extension": ".py",
   "mimetype": "text/x-python",
   "name": "python",
   "nbconvert_exporter": "python",
   "pygments_lexer": "ipython2",
   "version": "2.7.6"
  }
 },
 "nbformat": 4,
 "nbformat_minor": 0
}
