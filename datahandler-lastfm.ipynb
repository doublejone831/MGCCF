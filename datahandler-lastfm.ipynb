{
 "cells": [
  {
   "cell_type": "code",
   "execution_count": 35,
   "metadata": {},
   "outputs": [],
   "source": [
    "#cudf for linux\n",
    "# %conda install -c rapidsai -c conda-forge -c nvidia cudf=23.04 python=3.10 cudatoolkit=11.8\n",
    "#https://github.com/rapidsai/cudf\n",
    "#https://docs.rapids.ai/install#WSL2"
   ]
  },
  {
   "cell_type": "code",
   "execution_count": 1,
   "metadata": {},
   "outputs": [],
   "source": [
    "import pandas as pd\n",
    "# import cudf"
   ]
  },
  {
   "cell_type": "markdown",
   "metadata": {},
   "source": [
    "# Load data to df\n",
    "## Load data file"
   ]
  },
  {
   "cell_type": "code",
   "execution_count": 2,
   "metadata": {},
   "outputs": [],
   "source": [
    "import os\n",
    "from os.path import join\n",
    "\n",
    "#Gowalla setting\n",
    "#================================================\n",
    "DATA_NAME = \"Gowalla\"\n",
    "FILE_NAME = \"Gowalla_totalCheckins.txt\"\n",
    "COL_NAMES = ['user','time','lat','long','item']\n",
    "BASE_DATA_RATIO = 7# N/10\n",
    "INC_RATIO = 3\n",
    "INC_STEP = 5\n",
    "#================================================\n",
    "\n",
    "# config\n",
    "ROOT_PATH = os.path.abspath(\"\")\n",
    "DATA_PATH = join(ROOT_PATH+\"\\\\dataset\", DATA_NAME)\n",
    "SAVE_PATH = join(ROOT_PATH,\"pdata\")\n",
    "FILE_PATH = join(DATA_PATH, FILE_NAME)\n",
    "FILT_THRESHOLD = 10\n",
    "\n",
    "\n"
   ]
  },
  {
   "cell_type": "code",
   "execution_count": 4,
   "metadata": {},
   "outputs": [
    {
     "data": {
      "text/plain": "'C:\\\\Users\\\\PC\\\\Desktop\\\\Study\\\\KCC\\\\pdata'"
     },
     "execution_count": 4,
     "metadata": {},
     "output_type": "execute_result"
    }
   ],
   "source": [
    "SAVE_PATH"
   ]
  },
  {
   "cell_type": "code",
   "execution_count": 5,
   "metadata": {},
   "outputs": [
    {
     "name": "stdout",
     "output_type": "stream",
     "text": [
      "Total Edges : 6442892\n",
      "Total User : 107092\n",
      "Total item : 1280969                 \n",
      "Smallest user id : 0                 \n",
      "biggest user id : 196585                 \n",
      "Smallest item id : 8904                 \n",
      "biggest item id : 5977757                 \n",
      "Min Interaction Per user : 1                 \n",
      "Max Interaction Per user : 2175                 \n",
      "Avg Interaction Per user : 60.16221566503567                \n",
      "Min Interaction Per item : 1                 \n",
      "Max Interaction Per item : 5811                 \n",
      "Avg Interaction Per item : 5.029701733609478\n"
     ]
    }
   ],
   "source": [
    "# Load File\n",
    "origin_df = pd.read_table(FILE_PATH, names=COL_NAMES)\n",
    "#origin_df = cudf.from_pandas(origin_df)\n",
    "def print_info(df):\n",
    "        print(f\"Total Edges : {len(df)}\\nTotal User : {len(df['user'].unique())}\\nTotal item : {len(df['item'].unique())} \\\n",
    "                \\nSmallest user id : {df['user'].unique().min()} \\\n",
    "                \\nbiggest user id : {df['user'].unique().max()} \\\n",
    "                \\nSmallest item id : {df['item'].unique().min()} \\\n",
    "                \\nbiggest item id : {df['item'].unique().max()} \\\n",
    "                \\nMin Interaction Per user : {df.user.value_counts().min()} \\\n",
    "                \\nMax Interaction Per user : {df.user.value_counts().max()} \\\n",
    "                \\nAvg Interaction Per user : {df.user.value_counts().mean()}\\\n",
    "                \\nMin Interaction Per item : {df.item.value_counts().min()} \\\n",
    "                \\nMax Interaction Per item : {df.item.value_counts().max()} \\\n",
    "                \\nAvg Interaction Per item : {df.item.value_counts().mean()}\")\n",
    "print_info(origin_df)"
   ]
  },
  {
   "cell_type": "markdown",
   "metadata": {},
   "source": [
    "다음번 부터는 필터링 하고 리팩토링 할것 필요 없는 것들 까지들어가있어서 시간이 훨씬 오래걸린다......"
   ]
  },
  {
   "cell_type": "markdown",
   "metadata": {},
   "source": [
    "반복문이 아닌 판다스 기본 기능을 활용하니까 훨씬 빠르다"
   ]
  },
  {
   "cell_type": "code",
   "execution_count": 21,
   "metadata": {},
   "outputs": [],
   "source": [
    "from tqdm import tqdm\n",
    "from multiprocessing import Pool\n",
    "import numpy as np\n",
    "\n",
    "\n",
    "\n",
    "\n",
    "def refactoring_from_0(df):\n",
    "    out_df = pd.DataFrame() \n",
    "    \n",
    "    original_uid = np.sort(df['user'].unique())\n",
    "    original_iid = np.sort(df['item'].unique())\n",
    "\n",
    "    u_range = range(len(original_uid))\n",
    "    i_range = range(len(original_iid))\n",
    "\n",
    "    uid_mapping = { o_id: n_id for o_id, n_id in zip(original_uid, u_range)} # 원래 유저 아이디 (중간중간 비어있음) : 순서대로 유저 아이디\n",
    "    iid_mapping = { o_id: n_id for o_id, n_id in zip(original_iid,i_range)} # 원래 아이템 아이디 : 순서대로 아이템 아이디\n",
    "\n",
    "    uid_map = pd.DataFrame({'o_id' : list(uid_mapping.keys()), 'n_id' : list(uid_mapping.values())})\n",
    "    iid_map = pd.DataFrame({'o_id' : list(iid_mapping.keys()),'n_id':list(iid_mapping.values())})\n",
    "\n",
    "    out_df['user'] = df['user'].map(uid_mapping)\n",
    "    out_df['item'] = df['item'].map(iid_mapping)\n",
    "    out_df['time'] = df['time']\n",
    "    return out_df, uid_map, iid_map\n",
    "\n",
    "# NUM_CORES = 8\n",
    "\n",
    "# def user_replace(df):\n",
    "#     return df.replace({'user':{user_id:id}})\n",
    "\n",
    "# def item_replace(df):\n",
    "#     return df.replace({'item':{item_id:id}})\n",
    "\n",
    "\n",
    "# def parallelize_dataframe(df, func):\n",
    "#     df_split = np.array_split(df, NUM_CORES)\n",
    "#     pool = Pool(NUM_CORES)\n",
    "#     df = pd.concat(pool.map(func, df_split))\n",
    "#     pool.close()\n",
    "#     pool.join()\n",
    "#     return df\n",
    "\n",
    "# Change each user and item index start from 0\n",
    "# origin_df.sort_values(by='user',ascending=True)\n",
    "\n",
    "# # Change user id to start from 0\n",
    "# id = 0\n",
    "\n",
    "\n",
    "# for user_id in tqdm(origin_df['user'].unique()):\n",
    "#     parameter = {'user':{user_id:id}}\n",
    "#     # origin_df = parallelize_dataframe(origin_df, user_replace)\n",
    "#     id += 1\n",
    "\n",
    "# Change item id to start from 0\n",
    "# origin_df.sort_values(by='item',ascending=True)\n",
    "# id = 0\n",
    "\n",
    "# for item_id in tqdm(origin_df['item'].unique()):\n",
    "#     parameter = {'item':{item_id:id}}\n",
    "#     # origin_df = parallelize_dataframe(origin_df, item_replace)\n",
    "#     id += 1"
   ]
  },
  {
   "cell_type": "code",
   "execution_count": 16,
   "outputs": [
    {
     "data": {
      "text/plain": "   user                  time        lat       long     item\n0     0  2010-10-19T23:55:27Z  30.235909 -97.795140    22847\n1     0  2010-10-18T22:17:43Z  30.269103 -97.749395   420315\n2     0  2010-10-17T23:42:03Z  30.255731 -97.763386   316637\n3     0  2010-10-17T19:26:05Z  30.263418 -97.757597    16516\n4     0  2010-10-16T18:50:42Z  30.274292 -97.740523  5535878",
      "text/html": "<div>\n<style scoped>\n    .dataframe tbody tr th:only-of-type {\n        vertical-align: middle;\n    }\n\n    .dataframe tbody tr th {\n        vertical-align: top;\n    }\n\n    .dataframe thead th {\n        text-align: right;\n    }\n</style>\n<table border=\"1\" class=\"dataframe\">\n  <thead>\n    <tr style=\"text-align: right;\">\n      <th></th>\n      <th>user</th>\n      <th>time</th>\n      <th>lat</th>\n      <th>long</th>\n      <th>item</th>\n    </tr>\n  </thead>\n  <tbody>\n    <tr>\n      <th>0</th>\n      <td>0</td>\n      <td>2010-10-19T23:55:27Z</td>\n      <td>30.235909</td>\n      <td>-97.795140</td>\n      <td>22847</td>\n    </tr>\n    <tr>\n      <th>1</th>\n      <td>0</td>\n      <td>2010-10-18T22:17:43Z</td>\n      <td>30.269103</td>\n      <td>-97.749395</td>\n      <td>420315</td>\n    </tr>\n    <tr>\n      <th>2</th>\n      <td>0</td>\n      <td>2010-10-17T23:42:03Z</td>\n      <td>30.255731</td>\n      <td>-97.763386</td>\n      <td>316637</td>\n    </tr>\n    <tr>\n      <th>3</th>\n      <td>0</td>\n      <td>2010-10-17T19:26:05Z</td>\n      <td>30.263418</td>\n      <td>-97.757597</td>\n      <td>16516</td>\n    </tr>\n    <tr>\n      <th>4</th>\n      <td>0</td>\n      <td>2010-10-16T18:50:42Z</td>\n      <td>30.274292</td>\n      <td>-97.740523</td>\n      <td>5535878</td>\n    </tr>\n  </tbody>\n</table>\n</div>"
     },
     "execution_count": 16,
     "metadata": {},
     "output_type": "execute_result"
    }
   ],
   "source": [
    "origin_df.head()"
   ],
   "metadata": {
    "collapsed": false
   }
  },
  {
   "cell_type": "code",
   "execution_count": 22,
   "metadata": {},
   "outputs": [
    {
     "name": "stdout",
     "output_type": "stream",
     "text": [
      "Total Edges : 6442892\n",
      "Total User : 107092\n",
      "Total item : 1280969                 \n",
      "Smallest user id : 0                 \n",
      "biggest user id : 107091                 \n",
      "Smallest item id : 0                 \n",
      "biggest item id : 1280968                 \n",
      "Min Interaction Per user : 1                 \n",
      "Max Interaction Per user : 2175                 \n",
      "Avg Interaction Per user : 60.16221566503567                \n",
      "Min Interaction Per item : 1                 \n",
      "Max Interaction Per item : 5811                 \n",
      "Avg Interaction Per item : 5.029701733609478\n"
     ]
    },
    {
     "data": {
      "text/plain": "   user     item                  time\n0     0    11319  2010-10-19T23:55:27Z\n1     0   316537  2010-10-18T22:17:43Z\n2     0   240915  2010-10-17T23:42:03Z\n3     0     6334  2010-10-17T19:26:05Z\n4     0  1267091  2010-10-16T18:50:42Z",
      "text/html": "<div>\n<style scoped>\n    .dataframe tbody tr th:only-of-type {\n        vertical-align: middle;\n    }\n\n    .dataframe tbody tr th {\n        vertical-align: top;\n    }\n\n    .dataframe thead th {\n        text-align: right;\n    }\n</style>\n<table border=\"1\" class=\"dataframe\">\n  <thead>\n    <tr style=\"text-align: right;\">\n      <th></th>\n      <th>user</th>\n      <th>item</th>\n      <th>time</th>\n    </tr>\n  </thead>\n  <tbody>\n    <tr>\n      <th>0</th>\n      <td>0</td>\n      <td>11319</td>\n      <td>2010-10-19T23:55:27Z</td>\n    </tr>\n    <tr>\n      <th>1</th>\n      <td>0</td>\n      <td>316537</td>\n      <td>2010-10-18T22:17:43Z</td>\n    </tr>\n    <tr>\n      <th>2</th>\n      <td>0</td>\n      <td>240915</td>\n      <td>2010-10-17T23:42:03Z</td>\n    </tr>\n    <tr>\n      <th>3</th>\n      <td>0</td>\n      <td>6334</td>\n      <td>2010-10-17T19:26:05Z</td>\n    </tr>\n    <tr>\n      <th>4</th>\n      <td>0</td>\n      <td>1267091</td>\n      <td>2010-10-16T18:50:42Z</td>\n    </tr>\n  </tbody>\n</table>\n</div>"
     },
     "execution_count": 22,
     "metadata": {},
     "output_type": "execute_result"
    }
   ],
   "source": [
    "# Test refactoring function \n",
    "temp_df, a, b = refactoring_from_0(origin_df)\n",
    "print_info(temp_df)\n",
    "temp_df.head()"
   ]
  },
  {
   "cell_type": "code",
   "execution_count": 24,
   "metadata": {},
   "outputs": [],
   "source": [
    "# Save refactored dataframe\n",
    "temp_df.to_csv(DATA_PATH+\"_refactored.txt\",index=False,header=None)"
   ]
  },
  {
   "cell_type": "code",
   "execution_count": 27,
   "metadata": {},
   "outputs": [],
   "source": [
    "# Load refactored dataframe\n",
    "origin_df = pd.read_csv(DATA_PATH+\"_refactored.txt\", names=temp_df.columns)"
   ]
  },
  {
   "cell_type": "code",
   "execution_count": 28,
   "outputs": [
    {
     "data": {
      "text/plain": "           user     item                  time\n0             0    11319  2010-10-19T23:55:27Z\n1             0   316537  2010-10-18T22:17:43Z\n2             0   240915  2010-10-17T23:42:03Z\n3             0     6334  2010-10-17T19:26:05Z\n4             0  1267091  2010-10-16T18:50:42Z\n...         ...      ...                   ...\n6442887  107090   641922  2010-06-11T13:32:26Z\n6442888  107090   679059  2010-06-11T13:26:45Z\n6442889  107090   808233  2010-06-11T13:26:34Z\n6442890  107091   353112  2010-10-08T21:01:49Z\n6442891  107091  1213605  2010-10-07T17:39:18Z\n\n[6442892 rows x 3 columns]",
      "text/html": "<div>\n<style scoped>\n    .dataframe tbody tr th:only-of-type {\n        vertical-align: middle;\n    }\n\n    .dataframe tbody tr th {\n        vertical-align: top;\n    }\n\n    .dataframe thead th {\n        text-align: right;\n    }\n</style>\n<table border=\"1\" class=\"dataframe\">\n  <thead>\n    <tr style=\"text-align: right;\">\n      <th></th>\n      <th>user</th>\n      <th>item</th>\n      <th>time</th>\n    </tr>\n  </thead>\n  <tbody>\n    <tr>\n      <th>0</th>\n      <td>0</td>\n      <td>11319</td>\n      <td>2010-10-19T23:55:27Z</td>\n    </tr>\n    <tr>\n      <th>1</th>\n      <td>0</td>\n      <td>316537</td>\n      <td>2010-10-18T22:17:43Z</td>\n    </tr>\n    <tr>\n      <th>2</th>\n      <td>0</td>\n      <td>240915</td>\n      <td>2010-10-17T23:42:03Z</td>\n    </tr>\n    <tr>\n      <th>3</th>\n      <td>0</td>\n      <td>6334</td>\n      <td>2010-10-17T19:26:05Z</td>\n    </tr>\n    <tr>\n      <th>4</th>\n      <td>0</td>\n      <td>1267091</td>\n      <td>2010-10-16T18:50:42Z</td>\n    </tr>\n    <tr>\n      <th>...</th>\n      <td>...</td>\n      <td>...</td>\n      <td>...</td>\n    </tr>\n    <tr>\n      <th>6442887</th>\n      <td>107090</td>\n      <td>641922</td>\n      <td>2010-06-11T13:32:26Z</td>\n    </tr>\n    <tr>\n      <th>6442888</th>\n      <td>107090</td>\n      <td>679059</td>\n      <td>2010-06-11T13:26:45Z</td>\n    </tr>\n    <tr>\n      <th>6442889</th>\n      <td>107090</td>\n      <td>808233</td>\n      <td>2010-06-11T13:26:34Z</td>\n    </tr>\n    <tr>\n      <th>6442890</th>\n      <td>107091</td>\n      <td>353112</td>\n      <td>2010-10-08T21:01:49Z</td>\n    </tr>\n    <tr>\n      <th>6442891</th>\n      <td>107091</td>\n      <td>1213605</td>\n      <td>2010-10-07T17:39:18Z</td>\n    </tr>\n  </tbody>\n</table>\n<p>6442892 rows × 3 columns</p>\n</div>"
     },
     "execution_count": 28,
     "metadata": {},
     "output_type": "execute_result"
    }
   ],
   "source": [
    "origin_df"
   ],
   "metadata": {
    "collapsed": false
   }
  },
  {
   "cell_type": "markdown",
   "metadata": {},
   "source": [
    "## Preprocessing the data\n",
    "1. remove duplcaite\n",
    "2. filter data which have under 10 interaction\n",
    "3. refactor the id of user and item start from 0"
   ]
  },
  {
   "cell_type": "markdown",
   "source": [
    "**1. 중복제거**"
   ],
   "metadata": {
    "collapsed": false
   }
  },
  {
   "cell_type": "code",
   "execution_count": 31,
   "metadata": {},
   "outputs": [
    {
     "name": "stdout",
     "output_type": "stream",
     "text": [
      "Total Edges : 6442892\n",
      "Total User : 107092\n",
      "Total item : 1280969                 \n",
      "Smallest user id : 0                 \n",
      "biggest user id : 107091                 \n",
      "Smallest item id : 0                 \n",
      "biggest item id : 1280968                 \n",
      "Min Interaction Per user : 1                 \n",
      "Max Interaction Per user : 2175                 \n",
      "Avg Interaction Per user : 60.16221566503567                \n",
      "Min Interaction Per item : 1                 \n",
      "Max Interaction Per item : 5811                 \n",
      "Avg Interaction Per item : 5.029701733609478\n",
      "\n",
      "\n",
      " after drop dup \n",
      "\n",
      "\n",
      "Total Edges : 3981334\n",
      "Total User : 107092\n",
      "Total item : 1280969                 \n",
      "Smallest user id : 0                 \n",
      "biggest user id : 107091                 \n",
      "Smallest item id : 0                 \n",
      "biggest item id : 1280968                 \n",
      "Min Interaction Per user : 1                 \n",
      "Max Interaction Per user : 2064                 \n",
      "Avg Interaction Per user : 37.176763903933065                \n",
      "Min Interaction Per item : 1                 \n",
      "Max Interaction Per item : 2631                 \n",
      "Avg Interaction Per item : 3.1080642857087097\n"
     ]
    }
   ],
   "source": [
    "df = origin_df\n",
    "print_info(df)\n",
    "print(\"\\n\\n after drop dup \\n\\n\")\n",
    "# Just interaction and drop duplicate\n",
    "df = df[['user','time','item']]\n",
    "df = df.drop_duplicates(subset=['user','item'])\n",
    "print_info(df)"
   ]
  },
  {
   "cell_type": "code",
   "execution_count": 32,
   "metadata": {},
   "outputs": [],
   "source": [
    "# Save Interaction information without filtering\n",
    "WO_filtering = df\n",
    "# Sort with ascending order with user first and item\n",
    "WO_filtering = WO_filtering.sort_values(by=['user','item','time'], ascending=[True,True,True])\n",
    "WO_filtering, a, b = refactoring_from_0(WO_filtering)"
   ]
  },
  {
   "cell_type": "code",
   "execution_count": 33,
   "metadata": {},
   "outputs": [],
   "source": [
    "WO_filtering_filename = DATA_PATH + \"_WO_Filtering.txt\"\n",
    "if not os.path.exists(WO_filtering_filename):\n",
    "    WO_filtering.to_csv(WO_filtering_filename,sep=\" \", index=False, header=None)"
   ]
  },
  {
   "cell_type": "markdown",
   "metadata": {},
   "source": [
    "**2. interaction 10개 미만 데이터 필터링**"
   ]
  },
  {
   "cell_type": "code",
   "execution_count": 37,
   "metadata": {},
   "outputs": [],
   "source": [
    "filtering_filename = DATA_PATH + \"_Filtering_refactored.txt\"\n",
    "fdf = df"
   ]
  },
  {
   "cell_type": "code",
   "execution_count": 44,
   "outputs": [
    {
     "name": "stdout",
     "output_type": "stream",
     "text": [
      "Total Edges : 3981334\n",
      "Total User : 107092\n",
      "Total item : 1280969                 \n",
      "Smallest user id : 0                 \n",
      "biggest user id : 107091                 \n",
      "Smallest item id : 0                 \n",
      "biggest item id : 1280968                 \n",
      "Min Interaction Per user : 1                 \n",
      "Max Interaction Per user : 2064                 \n",
      "Avg Interaction Per user : 37.176763903933065                \n",
      "Min Interaction Per item : 1                 \n",
      "Max Interaction Per item : 2631                 \n",
      "Avg Interaction Per item : 3.1080642857087097\n"
     ]
    }
   ],
   "source": [
    "print_info(fdf)"
   ],
   "metadata": {
    "collapsed": false
   }
  },
  {
   "cell_type": "code",
   "execution_count": 63,
   "outputs": [
    {
     "data": {
      "text/plain": "696      2064\n13475    1996\n1460     1950\n2        1870\n752      1856\n         ... \n96887       1\n57670       1\n57656       1\n96895       1\n53698       1\nName: user, Length: 107092, dtype: int64"
     },
     "execution_count": 63,
     "metadata": {},
     "output_type": "execute_result"
    }
   ],
   "source": [
    "fdf[\"user\"].value_counts()"
   ],
   "metadata": {
    "collapsed": false
   }
  },
  {
   "cell_type": "code",
   "execution_count": 67,
   "outputs": [
    {
     "name": "stdout",
     "output_type": "stream",
     "text": [
      "Total Edges : 1027464\n",
      "Total User : 29858\n",
      "Total item : 40988                 \n",
      "Smallest user id : 0                 \n",
      "biggest user id : 106964                 \n",
      "Smallest item id : 1                 \n",
      "biggest item id : 1279995                 \n",
      "Min Interaction Per user : 10                 \n",
      "Max Interaction Per user : 1014                 \n",
      "Avg Interaction Per user : 34.411681961283406                \n",
      "Min Interaction Per item : 10                 \n",
      "Max Interaction Per item : 2310                 \n",
      "Avg Interaction Per item : 25.067434371035425\n"
     ]
    },
    {
     "data": {
      "text/plain": "           user                  time     item\n0             0  2010-10-19T23:55:27Z    11319\n1             0  2010-10-18T22:17:43Z   316537\n2             0  2010-10-17T23:42:03Z   240915\n3             0  2010-10-17T19:26:05Z     6334\n4             0  2010-10-16T18:50:42Z  1267091\n...         ...                   ...      ...\n1027459  106964  2010-04-27T04:32:19Z    54285\n1027460  106964  2010-03-14T18:13:45Z      609\n1027461  106964  2010-03-13T03:29:55Z   293444\n1027462  106964  2010-02-15T03:33:42Z    39492\n1027463  106964  2010-02-13T07:49:03Z   152775\n\n[1027464 rows x 3 columns]",
      "text/html": "<div>\n<style scoped>\n    .dataframe tbody tr th:only-of-type {\n        vertical-align: middle;\n    }\n\n    .dataframe tbody tr th {\n        vertical-align: top;\n    }\n\n    .dataframe thead th {\n        text-align: right;\n    }\n</style>\n<table border=\"1\" class=\"dataframe\">\n  <thead>\n    <tr style=\"text-align: right;\">\n      <th></th>\n      <th>user</th>\n      <th>time</th>\n      <th>item</th>\n    </tr>\n  </thead>\n  <tbody>\n    <tr>\n      <th>0</th>\n      <td>0</td>\n      <td>2010-10-19T23:55:27Z</td>\n      <td>11319</td>\n    </tr>\n    <tr>\n      <th>1</th>\n      <td>0</td>\n      <td>2010-10-18T22:17:43Z</td>\n      <td>316537</td>\n    </tr>\n    <tr>\n      <th>2</th>\n      <td>0</td>\n      <td>2010-10-17T23:42:03Z</td>\n      <td>240915</td>\n    </tr>\n    <tr>\n      <th>3</th>\n      <td>0</td>\n      <td>2010-10-17T19:26:05Z</td>\n      <td>6334</td>\n    </tr>\n    <tr>\n      <th>4</th>\n      <td>0</td>\n      <td>2010-10-16T18:50:42Z</td>\n      <td>1267091</td>\n    </tr>\n    <tr>\n      <th>...</th>\n      <td>...</td>\n      <td>...</td>\n      <td>...</td>\n    </tr>\n    <tr>\n      <th>1027459</th>\n      <td>106964</td>\n      <td>2010-04-27T04:32:19Z</td>\n      <td>54285</td>\n    </tr>\n    <tr>\n      <th>1027460</th>\n      <td>106964</td>\n      <td>2010-03-14T18:13:45Z</td>\n      <td>609</td>\n    </tr>\n    <tr>\n      <th>1027461</th>\n      <td>106964</td>\n      <td>2010-03-13T03:29:55Z</td>\n      <td>293444</td>\n    </tr>\n    <tr>\n      <th>1027462</th>\n      <td>106964</td>\n      <td>2010-02-15T03:33:42Z</td>\n      <td>39492</td>\n    </tr>\n    <tr>\n      <th>1027463</th>\n      <td>106964</td>\n      <td>2010-02-13T07:49:03Z</td>\n      <td>152775</td>\n    </tr>\n  </tbody>\n</table>\n<p>1027464 rows × 3 columns</p>\n</div>"
     },
     "execution_count": 67,
     "metadata": {},
     "output_type": "execute_result"
    }
   ],
   "source": [
    "# user 또는 item의 interaction이 10개 미만인 것들은 필터링\n",
    "while fdf.user.value_counts().min() < FILT_THRESHOLD or fdf.item.value_counts().min() < FILT_THRESHOLD:\n",
    "    df_item = fdf.groupby('item').count()\n",
    "    df_item = df_item[df_item.user < FILT_THRESHOLD]\n",
    "    li = df_item.index.to_list()\n",
    "    fdf = fdf.drop(fdf.loc[fdf.item.isin(li)].index)\n",
    "    # print_info(fdf)\n",
    "    df_usr = fdf.groupby('user').count()\n",
    "    df_usr = df_usr[df_usr.item < FILT_THRESHOLD]\n",
    "    li = df_usr.index.to_list()\n",
    "    fdf = fdf.drop(fdf.loc[fdf.user.isin(li)].index)\n",
    "    # print_info(fdf)\n",
    "    # print(f\"Total Edges : {len(fdf)}\\nTotal User : {len(fdf['user'].unique())}\\nTotal item : {len(fdf['item'].unique())} \\\n",
    "    #             \\nMin Interaction Per user : {fdf.user.value_counts().min()} \\\n",
    "    #             \\nMax Interaction Per user : {fdf.user.value_counts().max()} \\\n",
    "    #             \\nAvg Interaction Per user : {fdf.user.value_counts().mean()}\\\n",
    "    #             \\nMin Interaction Per item : {fdf.item.value_counts().min()} \\\n",
    "    #             \\nMax Interaction Per item : {fdf.item.value_counts().max()} \\\n",
    "    #             \\nAvg Interaction Per item : {fdf.item.value_counts().mean()}\")\n",
    "print_info(fdf)\n",
    "fdf = fdf.reset_index().drop(columns = ['index'])\n",
    "fdf\n"
   ],
   "metadata": {
    "collapsed": false
   }
  },
  {
   "cell_type": "markdown",
   "metadata": {},
   "source": [
    "### Refactor to make each user and item number start from 0"
   ]
  },
  {
   "cell_type": "code",
   "execution_count": 68,
   "metadata": {},
   "outputs": [
    {
     "name": "stdout",
     "output_type": "stream",
     "text": [
      "Total Edges : 1027464\n",
      "Total User : 29858\n",
      "Total item : 40988                 \n",
      "Smallest user id : 0                 \n",
      "biggest user id : 29857                 \n",
      "Smallest item id : 0                 \n",
      "biggest item id : 40987                 \n",
      "Min Interaction Per user : 10                 \n",
      "Max Interaction Per user : 1014                 \n",
      "Avg Interaction Per user : 34.411681961283406                \n",
      "Min Interaction Per item : 10                 \n",
      "Max Interaction Per item : 2310                 \n",
      "Avg Interaction Per item : 25.067434371035425\n"
     ]
    },
    {
     "data": {
      "text/plain": "          user   item                  time\n0            0   4169  2010-10-19T23:55:27Z\n1            0  31533  2010-10-18T22:17:43Z\n2            0  29074  2010-10-17T23:42:03Z\n3            0   2572  2010-10-17T19:26:05Z\n4            0  40979  2010-10-16T18:50:42Z\n...        ...    ...                   ...\n1027459  29857  13173  2010-04-27T04:32:19Z\n1027460  29857    392  2010-03-14T18:13:45Z\n1027461  29857  30837  2010-03-13T03:29:55Z\n1027462  29857  10578  2010-02-15T03:33:42Z\n1027463  29857  24374  2010-02-13T07:49:03Z\n\n[1027464 rows x 3 columns]",
      "text/html": "<div>\n<style scoped>\n    .dataframe tbody tr th:only-of-type {\n        vertical-align: middle;\n    }\n\n    .dataframe tbody tr th {\n        vertical-align: top;\n    }\n\n    .dataframe thead th {\n        text-align: right;\n    }\n</style>\n<table border=\"1\" class=\"dataframe\">\n  <thead>\n    <tr style=\"text-align: right;\">\n      <th></th>\n      <th>user</th>\n      <th>item</th>\n      <th>time</th>\n    </tr>\n  </thead>\n  <tbody>\n    <tr>\n      <th>0</th>\n      <td>0</td>\n      <td>4169</td>\n      <td>2010-10-19T23:55:27Z</td>\n    </tr>\n    <tr>\n      <th>1</th>\n      <td>0</td>\n      <td>31533</td>\n      <td>2010-10-18T22:17:43Z</td>\n    </tr>\n    <tr>\n      <th>2</th>\n      <td>0</td>\n      <td>29074</td>\n      <td>2010-10-17T23:42:03Z</td>\n    </tr>\n    <tr>\n      <th>3</th>\n      <td>0</td>\n      <td>2572</td>\n      <td>2010-10-17T19:26:05Z</td>\n    </tr>\n    <tr>\n      <th>4</th>\n      <td>0</td>\n      <td>40979</td>\n      <td>2010-10-16T18:50:42Z</td>\n    </tr>\n    <tr>\n      <th>...</th>\n      <td>...</td>\n      <td>...</td>\n      <td>...</td>\n    </tr>\n    <tr>\n      <th>1027459</th>\n      <td>29857</td>\n      <td>13173</td>\n      <td>2010-04-27T04:32:19Z</td>\n    </tr>\n    <tr>\n      <th>1027460</th>\n      <td>29857</td>\n      <td>392</td>\n      <td>2010-03-14T18:13:45Z</td>\n    </tr>\n    <tr>\n      <th>1027461</th>\n      <td>29857</td>\n      <td>30837</td>\n      <td>2010-03-13T03:29:55Z</td>\n    </tr>\n    <tr>\n      <th>1027462</th>\n      <td>29857</td>\n      <td>10578</td>\n      <td>2010-02-15T03:33:42Z</td>\n    </tr>\n    <tr>\n      <th>1027463</th>\n      <td>29857</td>\n      <td>24374</td>\n      <td>2010-02-13T07:49:03Z</td>\n    </tr>\n  </tbody>\n</table>\n<p>1027464 rows × 3 columns</p>\n</div>"
     },
     "execution_count": 68,
     "metadata": {},
     "output_type": "execute_result"
    }
   ],
   "source": [
    "fdf, filtered_uid_map, filtered_iid_map = refactoring_from_0(fdf)\n",
    "print_info(fdf)\n",
    "fdf"
   ]
  },
  {
   "cell_type": "code",
   "execution_count": 70,
   "metadata": {},
   "outputs": [],
   "source": [
    "fdf.to_csv(filtering_filename,sep=\" \", index=False, header=None)\n",
    "filtered_uid_map.to_csv(DATA_PATH+\"_filted_uid_map.txt\",sep=\" \", index=False, header=None)\n",
    "filtered_iid_map.to_csv(DATA_PATH+\"_filted_iid_map.txt\",sep=\" \", index=False, header=None)"
   ]
  },
  {
   "cell_type": "markdown",
   "metadata": {},
   "source": [
    "## User-Item Time Sequential Incremental Split"
   ]
  },
  {
   "cell_type": "code",
   "execution_count": 75,
   "metadata": {},
   "outputs": [
    {
     "name": "stdout",
     "output_type": "stream",
     "text": [
      "1027464\n",
      "821971\n",
      "Inc0 Block Size : 41098\n",
      "Inc1 Block Size : 41098\n",
      "Inc2 Block Size : 41098\n",
      "Inc3 Block Size : 41098\n",
      "Inc4 Block Size : 41101\n"
     ]
    }
   ],
   "source": [
    "INC_TIME_FILE_PATH = os.path.join(SAVE_PATH,f\"Incremental\\\\{DATA_NAME}\\\\Time\\\\\")\n",
    "fdf = fdf.sort_values(by=\"user\", ascending=True)\n",
    "print(len(fdf))\n",
    "pivot = len(fdf)*8//10\n",
    "fdf[:pivot].to_csv(INC_TIME_FILE_PATH + \"base.data\", sep=\" \", header=None, index=False)\n",
    "print(pivot)\n",
    "remain = fdf[pivot:]\n",
    "start = 0\n",
    "length = (len(fdf) - pivot)//5\n",
    "inc_block = []\n",
    "for i in range(INC_STEP):\n",
    "    if i != INC_STEP-1:\n",
    "        inc_block.append(remain[start:start+length])\n",
    "    else:\n",
    "        inc_block.append(remain[start:])\n",
    "    start += length\n",
    "    print(f\"Inc{i} Block Size : {len(inc_block[i])}\")\n",
    "    inc_block[i].to_csv(INC_TIME_FILE_PATH+f\"inc{i+1}.data\", sep = \" \", header=None, index=False)"
   ]
  },
  {
   "cell_type": "markdown",
   "metadata": {},
   "source": [
    "# User Incremental"
   ]
  },
  {
   "cell_type": "code",
   "execution_count": 76,
   "metadata": {},
   "outputs": [
    {
     "name": "stdout",
     "output_type": "stream",
     "text": [
      "Total User = 29858\n",
      "Base Block Size : 822048\n",
      "Base Done\n",
      "Inc1 Done\n",
      "Inc Block1 Size : 41104\n",
      "Inc2 Done\n",
      "Inc Block2 Size : 41103\n",
      "Inc3 Done\n",
      "Inc Block3 Size : 41112\n",
      "Inc4 Done\n",
      "Inc Block4 Size : 41110\n",
      "Inc5 Done\n",
      "Inc Block5 Size : 40987\n"
     ]
    }
   ],
   "source": [
    "INC_USER_FILE_PATH = os.path.join(SAVE_PATH,f\"Incremental\\\\{DATA_NAME}\\\\User\\\\\")\n",
    "print(f\"Total User = {len(fdf['user'].unique())}\")\n",
    "# Make df containing number of user interaction\n",
    "ucdf = fdf.groupby('user').count()\n",
    "# Shuffle the df\n",
    "ucdf = ucdf.iloc[np.random.permutation(ucdf.index)].reset_index()\n",
    "\n",
    "is_base = True\n",
    "\n",
    "base_user = []\n",
    "inc_user = [[] for i in range(INC_STEP)]\n",
    "\n",
    "i = 0\n",
    "cur = 0\n",
    "\n",
    "while i < INC_STEP:\n",
    "    count = 0\n",
    "    if is_base:\n",
    "        while count < 821971:\n",
    "            row = ucdf.iloc[cur]\n",
    "            base_user.append(row['user'])\n",
    "            count += row['item']\n",
    "            cur += 1\n",
    "        print(f\"Base Block Size : {count}\")\n",
    "        with open(INC_USER_FILE_PATH+\"base_user.data\", 'w') as fp:\n",
    "            for user in base_user:\n",
    "                # write each item on a new line\n",
    "                fp.write(\"%s\\n\" % user)\n",
    "        print('Base Done')\n",
    "        is_base = False\n",
    "    elif i == INC_STEP-1:\n",
    "        inc_user[i]= ucdf[cur:]['user'].values.tolist()\n",
    "        count = ucdf[cur:]['item'].values.sum()\n",
    "        with open(INC_USER_FILE_PATH+f\"inc_user_{i+1}.data\", 'w') as fp:\n",
    "            for user in inc_user[i]:\n",
    "                # write each item on a new line\n",
    "                fp.write(\"%s\\n\" % user)\n",
    "        print(f'Inc{i+1} Done')\n",
    "        print(f\"Inc Block{i+1} Size : {count}\")\n",
    "        i += 1\n",
    "    else:\n",
    "        while count <= 41098:\n",
    "            row = ucdf.iloc[cur]\n",
    "            inc_user[i].append(row['user'])\n",
    "            count += row['item']\n",
    "            cur += 1\n",
    "        with open(INC_USER_FILE_PATH+f\"inc_user_{i+1}.data\", 'w') as fp:\n",
    "            for user in inc_user[i]:\n",
    "                # write each item on a new line\n",
    "                fp.write(\"%s\\n\" % user)\n",
    "        print(f'Inc{i+1} Done')\n",
    "        print(f\"Inc Block{i+1} Size : {count}\")\n",
    "        i += 1\n",
    "        \n"
   ]
  },
  {
   "cell_type": "markdown",
   "metadata": {},
   "source": [
    "# Item Incremental"
   ]
  },
  {
   "cell_type": "code",
   "execution_count": 77,
   "metadata": {},
   "outputs": [
    {
     "name": "stdout",
     "output_type": "stream",
     "text": [
      "Total Item = 40988\n",
      "Base Block Size : 821982\n",
      "Base Done\n",
      "Inc1 Done\n",
      "Inc Block1 Size : 41143\n",
      "Inc2 Done\n",
      "Inc Block2 Size : 41104\n",
      "Inc3 Done\n",
      "Inc Block3 Size : 41325\n",
      "Inc4 Done\n",
      "Inc Block4 Size : 41107\n",
      "Inc5 Done\n",
      "Inc Block5 Size : 40803\n"
     ]
    }
   ],
   "source": [
    "INC_ITEM_FILE_PATH = os.path.join(SAVE_PATH,f\"Incremental\\\\{DATA_NAME}\\\\Item\\\\\")\n",
    "print(f\"Total Item = {len(fdf['item'].unique())}\")\n",
    "# Make df containing number of user interaction\n",
    "icdf = fdf.groupby('item').count()\n",
    "# Shuffle the df\n",
    "icdf = icdf.iloc[np.random.permutation(icdf.index)].reset_index()\n",
    "\n",
    "is_base = True\n",
    "\n",
    "base_item = []\n",
    "inc_item = [[] for i in range(INC_STEP)]\n",
    "\n",
    "i = 0\n",
    "cur = 0\n",
    "\n",
    "while i < INC_STEP:\n",
    "    count = 0\n",
    "    if is_base:\n",
    "        while count < 821971:\n",
    "            row = icdf.iloc[cur]\n",
    "            base_item.append(row['item'])\n",
    "            count += row['user']\n",
    "            cur += 1\n",
    "        print(f\"Base Block Size : {count}\")\n",
    "        with open(INC_ITEM_FILE_PATH+\"base_item.data\", 'w') as fp:\n",
    "            for item in base_user:\n",
    "                # write each item on a new line\n",
    "                fp.write(\"%s\\n\" % item)\n",
    "        print('Base Done')\n",
    "        is_base = False\n",
    "    elif i == INC_STEP-1:\n",
    "        inc_item[i]= icdf[cur:]['item'].values.tolist()\n",
    "        count = icdf[cur:]['user'].values.sum()\n",
    "        with open(INC_ITEM_FILE_PATH+f\"inc_item_{i+1}.data\", 'w') as fp:\n",
    "            for item in inc_item[i]:\n",
    "                # write each item on a new line\n",
    "                fp.write(\"%s\\n\" % item)\n",
    "        print(f'Inc{i+1} Done')\n",
    "        print(f\"Inc Block{i+1} Size : {count}\")\n",
    "        i += 1\n",
    "    else:\n",
    "        while count <= 41098:\n",
    "            row = icdf.iloc[cur]\n",
    "            inc_item[i].append(row['item'])\n",
    "            count += row['user']\n",
    "            cur += 1\n",
    "        with open(INC_ITEM_FILE_PATH+f\"inc_item_{i+1}.data\", 'w') as fp:\n",
    "            for item in inc_item[i]:\n",
    "                # write each item on a new line\n",
    "                fp.write(\"%s\\n\" % item)\n",
    "        print(f'Inc{i+1} Done')\n",
    "        print(f\"Inc Block{i+1} Size : {count}\")\n",
    "        i += 1"
   ]
  },
  {
   "cell_type": "code",
   "execution_count": null,
   "outputs": [],
   "source": [],
   "metadata": {
    "collapsed": false
   }
  }
 ],
 "metadata": {
  "kernelspec": {
   "display_name": "Python 3 (ipykernel)",
   "language": "python",
   "name": "python3"
  },
  "language_info": {
   "codemirror_mode": {
    "name": "ipython",
    "version": 3
   },
   "file_extension": ".py",
   "mimetype": "text/x-python",
   "name": "python",
   "nbconvert_exporter": "python",
   "pygments_lexer": "ipython3",
   "version": "3.11.1"
  }
 },
 "nbformat": 4,
 "nbformat_minor": 2
}
