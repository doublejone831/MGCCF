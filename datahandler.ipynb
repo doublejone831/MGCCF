{
 "cells": [
  {
   "cell_type": "code",
   "execution_count": 4,
   "metadata": {},
   "outputs": [
    {
     "name": "stdout",
     "output_type": "stream",
     "text": [
      "Collecting package metadata (current_repodata.json): ...working... done\n",
      "Solving environment: ...working... failed with initial frozen solve. Retrying with flexible solve.\n",
      "Collecting package metadata (repodata.json): ...working... done\n",
      "Solving environment: ...working... failed with initial frozen solve. Retrying with flexible solve.\n",
      "\n",
      "Note: you may need to restart the kernel to use updated packages.\n"
     ]
    },
    {
     "name": "stderr",
     "output_type": "stream",
     "text": [
      "\n",
      "PackagesNotFoundError: The following packages are not available from current channels:\n",
      "\n",
      "  - cudf=23.04\n",
      "\n",
      "Current channels:\n",
      "\n",
      "  - https://conda.anaconda.org/rapidsai/win-64\n",
      "  - https://conda.anaconda.org/rapidsai/noarch\n",
      "  - https://conda.anaconda.org/conda-forge/win-64\n",
      "  - https://conda.anaconda.org/conda-forge/noarch\n",
      "  - https://conda.anaconda.org/nvidia/win-64\n",
      "  - https://conda.anaconda.org/nvidia/noarch\n",
      "  - https://repo.anaconda.com/pkgs/main/win-64\n",
      "  - https://repo.anaconda.com/pkgs/main/noarch\n",
      "  - https://repo.anaconda.com/pkgs/r/win-64\n",
      "  - https://repo.anaconda.com/pkgs/r/noarch\n",
      "  - https://repo.anaconda.com/pkgs/msys2/win-64\n",
      "  - https://repo.anaconda.com/pkgs/msys2/noarch\n",
      "\n",
      "To search for alternate channels that may provide the conda package you're\n",
      "looking for, navigate to\n",
      "\n",
      "    https://anaconda.org\n",
      "\n",
      "and use the search bar at the top of the page.\n",
      "\n",
      "\n"
     ]
    }
   ],
   "source": [
    "#cudf for linux\n",
    "%conda install -c rapidsai -c conda-forge -c nvidia cudf=23.04 python=3.10 cudatoolkit=11.8\n",
    "#https://github.com/rapidsai/cudf"
   ]
  },
  {
   "cell_type": "code",
   "execution_count": 5,
   "metadata": {},
   "outputs": [],
   "source": [
    "import pandas as pd\n",
    "# import cudf"
   ]
  },
  {
   "attachments": {},
   "cell_type": "markdown",
   "metadata": {},
   "source": [
    "# Load data to df\n",
    "## Load data file"
   ]
  },
  {
   "cell_type": "code",
   "execution_count": 6,
   "metadata": {},
   "outputs": [],
   "source": [
    "import os\n",
    "from os.path import join\n",
    "\n",
    "#Gowalla setting\n",
    "#================================================\n",
    "DATA_NAME = \"Gowalla\"\n",
    "FILE_NAME = \"Gowalla_totalCheckins.txt\"\n",
    "COL_NAMES = ['user','time','lat','long','item']\n",
    "#================================================\n",
    "\n",
    "# config\n",
    "ROOT_PATH = os.path.abspath(\"\")\n",
    "DATA_PATH = join(ROOT_PATH+\"\\\\data\", DATA_NAME)\n",
    "FILE_PATH = join(DATA_PATH, FILE_NAME)\n",
    "FILT_THRESHOLD = 10\n"
   ]
  },
  {
   "cell_type": "code",
   "execution_count": 7,
   "metadata": {},
   "outputs": [
    {
     "name": "stdout",
     "output_type": "stream",
     "text": [
      "Total Edges : 6442892\n",
      "Total User : 107092\n",
      "Total item : 1280969         \n",
      " Smallest user id : 0         \n",
      " biggest user id : 196585         \n",
      " Smallest item id : 8904         \n",
      " biggest item id : 5977757         \n",
      " Min Interaction Per user : 1         \n",
      " Max Interaction Per user : 2175         \n",
      " Avg Interaction Per user : 60.16221566503567        \n",
      " Min Interaction Per item : 1         \n",
      " Max Interaction Per item : 5811         \n",
      " Avg Interaction Per item : 5.029701733609478\n"
     ]
    }
   ],
   "source": [
    "# Load File\n",
    "origin_df = pd.read_table(FILE_PATH, names=COL_NAMES)\n",
    "print(f\"Total Edges : {len(origin_df)}\\nTotal User : {len(origin_df['user'].unique())}\\nTotal item : {len(origin_df['item'].unique())} \\\n",
    "        \\n Smallest user id : {origin_df['user'].unique().min()} \\\n",
    "        \\n biggest user id : {origin_df['user'].unique().max()} \\\n",
    "        \\n Smallest item id : {origin_df['item'].unique().min()} \\\n",
    "        \\n biggest item id : {origin_df['item'].unique().max()} \\\n",
    "        \\n Min Interaction Per user : {origin_df.user.value_counts().min()} \\\n",
    "        \\n Max Interaction Per user : {origin_df.user.value_counts().max()} \\\n",
    "        \\n Avg Interaction Per user : {origin_df.user.value_counts().mean()}\\\n",
    "        \\n Min Interaction Per item : {origin_df.item.value_counts().min()} \\\n",
    "        \\n Max Interaction Per item : {origin_df.item.value_counts().max()} \\\n",
    "        \\n Avg Interaction Per item : {origin_df.item.value_counts().mean()}\")"
   ]
  },
  {
   "cell_type": "code",
   "execution_count": 8,
   "metadata": {},
   "outputs": [
    {
     "name": "stderr",
     "output_type": "stream",
     "text": [
      "  0%|          | 204/107092 [00:36<5:24:19,  5.49it/s]"
     ]
    }
   ],
   "source": [
    "from tqdm import tqdm\n",
    "# Change each user and item index start from 0\n",
    "origin_df.sort_values(by='user',ascending=True)\n",
    "\n",
    "# Change user id to start from 0\n",
    "id = 0\n",
    "\n",
    "for user_id in tqdm(origin_df['user'].unique()):\n",
    "    origin_df = origin_df.replace({'user':{user_id:id}})\n",
    "    id += 1\n",
    "\n",
    "# Change item id to start from 0\n",
    "origin_df.sort_values(by='item',ascending=True)\n",
    "id = 0\n",
    "\n",
    "for item_id in tqdm(origin_df['item'].unique()):\n",
    "    origin_df = origin_df.replace({'item':{item_id:id}})\n",
    "    id += 1\n",
    "\n",
    "origin_df"
   ]
  },
  {
   "cell_type": "code",
   "execution_count": null,
   "metadata": {},
   "outputs": [],
   "source": [
    "# Save refactored dataframe\n",
    "origin_df.to_csv(DATA_NAME+\"_refactored.txt\",index=False,header=None)"
   ]
  },
  {
   "cell_type": "code",
   "execution_count": null,
   "metadata": {},
   "outputs": [],
   "source": [
    "# Load refactored dataframe\n",
    "origin_df = pd.read_table(FILE_PATH + DATA_NAME+\"_refactored.txt\", names=COL_NAMES)"
   ]
  },
  {
   "attachments": {},
   "cell_type": "markdown",
   "metadata": {},
   "source": [
    "## User-Item Train-Test Split"
   ]
  },
  {
   "cell_type": "code",
   "execution_count": 4,
   "metadata": {},
   "outputs": [],
   "source": [
    "df = origin_df\n",
    "# Just interaction and drop duplicate\n",
    "df = df[['user','item']]\n",
    "df = df.drop_duplicates()"
   ]
  },
  {
   "cell_type": "code",
   "execution_count": 5,
   "metadata": {},
   "outputs": [],
   "source": [
    "# Save Interaction information without filtering\n",
    "WO_filtering = df\n",
    "# Sort with ascending order with user first and item\n",
    "WO_filtering = WO_filtering.sort_values(by=['user','item'], ascending=[True,True])"
   ]
  },
  {
   "cell_type": "code",
   "execution_count": 6,
   "metadata": {},
   "outputs": [],
   "source": [
    "WO_filtering_filename = DATA_NAME + \"_WO_Filtering.intr\"\n",
    "if not os.path.exists(WO_filtering_filename):\n",
    "    WO_filtering.to_csv(WO_filtering_filename,sep=\" \", index=False, header=None)"
   ]
  },
  {
   "cell_type": "code",
   "execution_count": 9,
   "metadata": {},
   "outputs": [
    {
     "name": "stdout",
     "output_type": "stream",
     "text": [
      "         user\n",
      "item         \n",
      "8904        7\n",
      "8932       13\n",
      "8936        7\n",
      "8938       28\n",
      "8947      268\n",
      "...       ...\n",
      "5975123     1\n",
      "5976149     1\n",
      "5976173     1\n",
      "5977211     1\n",
      "5977757     1\n",
      "\n",
      "[1280969 rows x 1 columns]\n"
     ]
    }
   ],
   "source": [
    "filtering_filename = DATA_NAME + \"Filtering.intr\"\n",
    "df_usr = df.groupby('user').count()\n",
    "df_item = df.groupby('item').count()\n",
    "print(df_item)"
   ]
  },
  {
   "attachments": {},
   "cell_type": "markdown",
   "metadata": {},
   "source": [
    "## User-Item Incremental Split"
   ]
  },
  {
   "cell_type": "code",
   "execution_count": null,
   "metadata": {},
   "outputs": [],
   "source": []
  }
 ],
 "metadata": {
  "kernelspec": {
   "display_name": "Jupyter_notebook",
   "language": "python",
   "name": "jupyter_notebook"
  },
  "language_info": {
   "codemirror_mode": {
    "name": "ipython",
    "version": 3
   },
   "file_extension": ".py",
   "mimetype": "text/x-python",
   "name": "python",
   "nbconvert_exporter": "python",
   "pygments_lexer": "ipython3",
   "version": "3.8.16"
  },
  "orig_nbformat": 4
 },
 "nbformat": 4,
 "nbformat_minor": 2
}
