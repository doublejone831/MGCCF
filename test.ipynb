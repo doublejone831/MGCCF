{
 "cells": [
  {
   "cell_type": "code",
   "execution_count": 73,
   "metadata": {},
   "outputs": [
    {
     "name": "stdout",
     "output_type": "stream",
     "text": [
      "tensor([[0.0000, 0.6386, 0.7589, 0.0000, 0.5655],\n",
      "        [0.5201, 0.0000, 0.0000, 0.0000, 0.6312],\n",
      "        [0.0763, 0.0000, 0.0000, 0.4781, 0.0000],\n",
      "        [0.0000, 0.0000, 0.4768, 0.0000, 0.0000],\n",
      "        [0.9530, 0.2684, 0.0000, 0.0000, 0.4343]])\n",
      "tensor([[0.5655],\n",
      "        [0.0000],\n",
      "        [0.0000],\n",
      "        [0.0000],\n",
      "        [0.2684]])\n",
      "torch.Size([5])\n",
      "tensor([[2],\n",
      "        [2],\n",
      "        [2],\n",
      "        [1],\n",
      "        [2]])\n",
      "tensor([[0., 1., 1., 0., 0.],\n",
      "        [1., 0., 0., 0., 1.],\n",
      "        [1., 0., 0., 1., 0.],\n",
      "        [0., 0., 1., 0., 0.],\n",
      "        [1., 0., 0., 0., 1.]])\n"
     ]
    },
    {
     "data": {
      "text/plain": [
       "tensor([[0.0000, 0.5000, 0.5000, 0.0000, 0.0000],\n",
       "        [0.5000, 0.0000, 0.0000, 0.0000, 0.5000],\n",
       "        [0.5000, 0.0000, 0.0000, 0.5000, 0.0000],\n",
       "        [0.0000, 0.0000, 1.0000, 0.0000, 0.0000],\n",
       "        [0.5000, 0.0000, 0.0000, 0.0000, 0.5000]])"
      ]
     },
     "execution_count": 73,
     "metadata": {},
     "output_type": "execute_result"
    }
   ],
   "source": [
    "import torch\n",
    "import numpy as np\n",
    "rand_mat = torch.rand(5, 5)\n",
    "adj_mat = torch.tensor([[0,1,1,0,1,],\n",
    "                        [1,0,0,0,1,],\n",
    "                        [1,0,0,1,0,],\n",
    "                        [0,0,1,0,0,],\n",
    "                        [1,1,0,0,1,]])\n",
    "rand_mat = rand_mat*adj_mat\n",
    "print(rand_mat)\n",
    "k_th_quant = torch.topk(rand_mat, 3)[0][:,-1:]\n",
    "print(k_th_quant)\n",
    "mask = (rand_mat > k_th_quant)/1\n",
    "temp = mask.count_nonzero(dim=1)\n",
    "shape = temp.size()\n",
    "temp = temp.view(shape[0],1)\n",
    "print(shape)\n",
    "print(temp)\n",
    "print(mask)\n",
    "mask = mask/temp\n",
    "\n",
    "mask"
   ]
  },
  {
   "cell_type": "code",
   "execution_count": 22,
   "metadata": {},
   "outputs": [
    {
     "data": {
      "text/plain": [
       "tensor([[0.3882, 0.4394, 0.5083],\n",
       "        [0.9964, 0.8606, 1.1735],\n",
       "        [1.5027, 0.7491, 1.6142],\n",
       "        [0.8450, 0.4340, 0.7593],\n",
       "        [1.1039, 0.7603, 1.0660]])"
      ]
     },
     "execution_count": 22,
     "metadata": {},
     "output_type": "execute_result"
    }
   ],
   "source": []
  }
 ],
 "metadata": {
  "kernelspec": {
   "display_name": "Jupyter_Notebook",
   "language": "python",
   "name": "jupyter_notebook"
  },
  "language_info": {
   "codemirror_mode": {
    "name": "ipython",
    "version": 3
   },
   "file_extension": ".py",
   "mimetype": "text/x-python",
   "name": "python",
   "nbconvert_exporter": "python",
   "pygments_lexer": "ipython3",
   "version": "3.7.16"
  },
  "orig_nbformat": 4
 },
 "nbformat": 4,
 "nbformat_minor": 2
}
